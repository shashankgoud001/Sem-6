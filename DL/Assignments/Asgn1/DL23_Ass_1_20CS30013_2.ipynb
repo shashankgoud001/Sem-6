{
  "cells": [
    {
      "cell_type": "markdown",
      "metadata": {
        "id": "FBKdMbwfvq-W"
      },
      "source": [
        "# About: Deep Learning '23 Assignment 1\n",
        "\n",
        "\n",
        "We will perform Image Classification task on the MNIST dataset which has 70,000 28*28 images labelled into 10 classes. \n",
        "\n",
        "**Total Marks: 60**\n",
        "\n",
        "\n",
        "**Fill these**\n",
        "\n",
        "Name: `Boorgu Shashank Goud`\n",
        "\n",
        "Roll Number: `20CS30013`\n",
        "\n",
        "**Instructions:**\n",
        "\n",
        "1. We have left code cells blank for you to fill up with appropriate code. Do not add any extra code cells. Strictly follow the format and fill up the cells with the correct code. Refer to cell comments for what to fill in that cell.\n",
        "\n",
        "2. *Do not* use any training frameworks like PyTorch Lightning. This assignment will test your ability to write custom training loops.\n",
        "\n",
        "3. Save the notebook with cell outputs of all cells. The cell outputs  will be used for evaluating your submission.\n",
        "\n",
        "\n"
      ]
    },
    {
      "cell_type": "code",
      "execution_count": null,
      "metadata": {
        "id": "b7yol97nxLq3"
      },
      "outputs": [],
      "source": [
        "import torch\n",
        "import torch.nn as nn\n",
        "import random\n",
        "import numpy as np\n",
        "import matplotlib.pyplot as plt\n",
        "from torchvision import datasets, transforms\n",
        "from torch.utils.data import random_split, DataLoader\n",
        "\n",
        "## Add any other imports here"
      ]
    },
    {
      "cell_type": "code",
      "execution_count": null,
      "metadata": {
        "id": "Lv07aCHK0IhG"
      },
      "outputs": [],
      "source": [
        "SEED=42\n",
        "torch.manual_seed(SEED)\n",
        "random.seed(SEED)\n",
        "np.random.seed(SEED)"
      ]
    },
    {
      "cell_type": "markdown",
      "metadata": {
        "id": "HU_56fBhx2H4"
      },
      "source": [
        "## Getting the data"
      ]
    },
    {
      "cell_type": "code",
      "execution_count": null,
      "metadata": {
        "colab": {
          "base_uri": "https://localhost:8080/",
          "height": 447,
          "referenced_widgets": [
            "19e809064f3545778bed3771131dd5bd",
            "3a33b2bdf651427bbc0de7e85bf73609",
            "25de1421f58c406d990ad006afe467d9",
            "7ff709746d134538b309c9877ae45339",
            "58f572b84a7c476884b5d4df6341a4d9",
            "42b6236aa2224bf2b665c2b58490849d",
            "6478451e463742858046ad6c12378b5a",
            "4516644ef9584368b2f5e9af3d27db1c",
            "d8f972c179de4da58a8347d6c8051d35",
            "d790b4f130934dafbaed282ceb150822",
            "d3ff766e996e461d86a81dc72128d1c0",
            "c95e1aab65c64fdd9327b969cb2cdbaf",
            "945ed435dc644b169f737a8374943116",
            "c866bb02674045a8996d61ff8c3881f1",
            "7761b7b623534c68ad586300b07985ca",
            "9be52d66df88408391ed78290b2f3234",
            "1c3ab3e28072481ba4d01b4a5c02d454",
            "2738c9db54b241fd8e9bb9a0fcd1d537",
            "213de87252ed472ea31ccec2296cc73d",
            "531982f78ae6481a8e39a860fc799c89",
            "ace127325d7c4e3fbeb89b429cec3818",
            "d898284a332942ba9718dd12a49f66bd",
            "4be9dd70b1794ff3b2c16b734e0afd26",
            "bf7158bbd15e484fa03fefaab085a783",
            "1b437786f5964648be7de35a65d37fc0",
            "16448ef2d98f4fd7b00ba7f8b3126351",
            "df32df52cb8d4481b56ba6e1f0d63442",
            "f4acc96397b04e18a54615f4bd1c01f2",
            "2d9eecdced72480ea57ac8b592d6a102",
            "9d54b1af37a146f69919aa4c0da506a3",
            "b31d84ffdbd64d33ab196e2c8eb3cd2f",
            "1a9036476a984132be664a39cdb07211",
            "eb80800edf1a4c06b86ec3c328390a99",
            "d569aef86071423da6ea347477fd46df",
            "c302c33994ed4d07bb743eecd214900a",
            "a8e0939a89ea475f81f40e65c431f9e6",
            "c2399686d62e4e88bdd21a84b9fb686e",
            "cd5320004d6d4bebbb08f7980b337a40",
            "40bbe39eff5449c3944ec8113ec0dab4",
            "8f80c9abc57a479ea71e0a509dd67a71",
            "9bb8d3815b564268b2e50eefb323b1d4",
            "7692a97c226f4f9399d962622c4d5c31",
            "e3954377ee7c46d88fef07ac62662427",
            "d3c60af8a70741e78831e440959f0dc9"
          ]
        },
        "id": "CfV1pXYtyAfW",
        "outputId": "6eb5d112-2a20-4502-a5c7-a352d2854126"
      },
      "outputs": [
        {
          "name": "stdout",
          "output_type": "stream",
          "text": [
            "Downloading http://yann.lecun.com/exdb/mnist/train-images-idx3-ubyte.gz\n",
            "Downloading http://yann.lecun.com/exdb/mnist/train-images-idx3-ubyte.gz to data/MNIST/raw/train-images-idx3-ubyte.gz\n"
          ]
        },
        {
          "data": {
            "application/vnd.jupyter.widget-view+json": {
              "model_id": "19e809064f3545778bed3771131dd5bd",
              "version_major": 2,
              "version_minor": 0
            },
            "text/plain": [
              "  0%|          | 0/9912422 [00:00<?, ?it/s]"
            ]
          },
          "metadata": {},
          "output_type": "display_data"
        },
        {
          "name": "stdout",
          "output_type": "stream",
          "text": [
            "Extracting data/MNIST/raw/train-images-idx3-ubyte.gz to data/MNIST/raw\n",
            "\n",
            "Downloading http://yann.lecun.com/exdb/mnist/train-labels-idx1-ubyte.gz\n",
            "Downloading http://yann.lecun.com/exdb/mnist/train-labels-idx1-ubyte.gz to data/MNIST/raw/train-labels-idx1-ubyte.gz\n"
          ]
        },
        {
          "data": {
            "application/vnd.jupyter.widget-view+json": {
              "model_id": "c95e1aab65c64fdd9327b969cb2cdbaf",
              "version_major": 2,
              "version_minor": 0
            },
            "text/plain": [
              "  0%|          | 0/28881 [00:00<?, ?it/s]"
            ]
          },
          "metadata": {},
          "output_type": "display_data"
        },
        {
          "name": "stdout",
          "output_type": "stream",
          "text": [
            "Extracting data/MNIST/raw/train-labels-idx1-ubyte.gz to data/MNIST/raw\n",
            "\n",
            "Downloading http://yann.lecun.com/exdb/mnist/t10k-images-idx3-ubyte.gz\n",
            "Downloading http://yann.lecun.com/exdb/mnist/t10k-images-idx3-ubyte.gz to data/MNIST/raw/t10k-images-idx3-ubyte.gz\n"
          ]
        },
        {
          "data": {
            "application/vnd.jupyter.widget-view+json": {
              "model_id": "4be9dd70b1794ff3b2c16b734e0afd26",
              "version_major": 2,
              "version_minor": 0
            },
            "text/plain": [
              "  0%|          | 0/1648877 [00:00<?, ?it/s]"
            ]
          },
          "metadata": {},
          "output_type": "display_data"
        },
        {
          "name": "stdout",
          "output_type": "stream",
          "text": [
            "Extracting data/MNIST/raw/t10k-images-idx3-ubyte.gz to data/MNIST/raw\n",
            "\n",
            "Downloading http://yann.lecun.com/exdb/mnist/t10k-labels-idx1-ubyte.gz\n",
            "Downloading http://yann.lecun.com/exdb/mnist/t10k-labels-idx1-ubyte.gz to data/MNIST/raw/t10k-labels-idx1-ubyte.gz\n"
          ]
        },
        {
          "data": {
            "application/vnd.jupyter.widget-view+json": {
              "model_id": "d569aef86071423da6ea347477fd46df",
              "version_major": 2,
              "version_minor": 0
            },
            "text/plain": [
              "  0%|          | 0/4542 [00:00<?, ?it/s]"
            ]
          },
          "metadata": {},
          "output_type": "display_data"
        },
        {
          "name": "stdout",
          "output_type": "stream",
          "text": [
            "Extracting data/MNIST/raw/t10k-labels-idx1-ubyte.gz to data/MNIST/raw\n",
            "\n",
            "50000 10000 10000\n"
          ]
        }
      ],
      "source": [
        "train_data = datasets.MNIST('data', train=True, download=True, transform=transforms.ToTensor())\n",
        "test_data = datasets.MNIST('data', train=False, download=True, transform=transforms.ToTensor())\n",
        "train, val = random_split(train_data, [50000, 10000], generator=torch.Generator().manual_seed(SEED))\n",
        "\n",
        "train_loader = DataLoader(train, batch_size=64, shuffle=True)\n",
        "val_loader = DataLoader(val, batch_size=64, shuffle=False)\n",
        "test_loader = DataLoader(test_data, batch_size=64, shuffle=False)\n",
        "\n",
        "print(len(train), len(val), len(test_data))"
      ]
    },
    {
      "cell_type": "markdown",
      "metadata": {
        "id": "4xqWpnwu0mzj"
      },
      "source": [
        "## Defining the Model [18 marks]\n",
        "\n",
        "You will define 3 models, with 2, 3, 4 hidden layers respectively. Lets call these models A, B, C. We will be studying the comparitive performance of these 3 models on this task.\n",
        "\n",
        "Use ReLU as the activation function for all three models. Later we will experiment with other activation functions as well."
      ]
    },
    {
      "cell_type": "markdown",
      "metadata": {
        "id": "30J_OmCoMm4S"
      },
      "source": [
        "### Model A\n",
        "\n",
        "Architecture:\n",
        "\n",
        "1. Input Layer \n",
        "2. Hidden Layer (Dimension Size - 64)\n",
        "3. Activation Function\n",
        "4. Hidden Layer (Dimension Size - 128)\n",
        "5. Activation Function\n",
        "6. Output Layer (Dimension Size = Number of Classes = 10)"
      ]
    },
    {
      "cell_type": "code",
      "execution_count": null,
      "metadata": {
        "id": "WPGlwx0502pe"
      },
      "outputs": [],
      "source": [
        "# Model A Definition \n",
        "# Fill in appropriately while maintaining the name of the variable\n",
        "##### modelA = ...\n",
        "class A(nn.Module):\n",
        "    def __init__(self, input_size, hidden_size1, hidden_size2, num_classes):\n",
        "        super(A, self).__init__()\n",
        "        self.fc1 = nn.Linear(input_size, hidden_size1)\n",
        "        self.act1 = nn.ReLU()\n",
        "        self.fc2 = nn.Linear(hidden_size1, hidden_size2)\n",
        "        self.act2 = nn.ReLU()\n",
        "        self.fc3 = nn.Linear(hidden_size2, num_classes)\n",
        "\n",
        "    def forward(self, x):\n",
        "        out = self.fc1(x)\n",
        "        out = self.act1(out)\n",
        "        out = self.fc2(out)\n",
        "        out = self.act2(out)\n",
        "        out = self.fc3(out)\n",
        "        return out\n",
        "modelA = A(input_size=784, hidden_size1=64, hidden_size2=128, num_classes=10)\n"
      ]
    },
    {
      "cell_type": "markdown",
      "metadata": {
        "id": "0K0nfqCvMqA9"
      },
      "source": [
        "### Model B\n",
        "\n",
        "\n",
        "Architecture:\n",
        "\n",
        "1. Input Layer \n",
        "2. Hidden Layer (Dimension Size - 64)\n",
        "3. Activation Function\n",
        "4. Hidden Layer (Dimension Size - 128)\n",
        "5. Activation Function\n",
        "6. Hidden Layer (Dimension Size - 256)\n",
        "7. Activation Function\n",
        "8. Output Layer (Dimension Size = Number of Classes = 10)"
      ]
    },
    {
      "cell_type": "code",
      "execution_count": null,
      "metadata": {
        "id": "AD5W0AJ908tI"
      },
      "outputs": [],
      "source": [
        "# Model B Definiton\n",
        "\n",
        "\n",
        "\n",
        "# Use the same variable name\n",
        "#### modelB = ... \n",
        "class B(nn.Module):\n",
        "    def __init__(self, input_size, hidden_size1, hidden_size2, hidden_size3, num_classes):\n",
        "        super(B, self).__init__()\n",
        "        self.fc1 = nn.Linear(input_size, hidden_size1)\n",
        "        self.act1 = nn.ReLU()\n",
        "        self.fc2 = nn.Linear(hidden_size1, hidden_size2)\n",
        "        self.act2 = nn.ReLU()\n",
        "        self.fc3 = nn.Linear(hidden_size2, hidden_size3)\n",
        "        self.act3 = nn.ReLU()\n",
        "        self.fc4 = nn.Linear(hidden_size3, num_classes)\n",
        "\n",
        "    def forward(self, x):\n",
        "        out = self.fc1(x)\n",
        "        out = self.act1(out)\n",
        "        out = self.fc2(out)\n",
        "        out = self.act2(out)\n",
        "        out = self.fc3(out)\n",
        "        out = self.act3(out)\n",
        "        out = self.fc4(out)\n",
        "        return out\n",
        "\n",
        "modelB = B(input_size=784, hidden_size1=64, hidden_size2=128, hidden_size3=256, num_classes=10)\n"
      ]
    },
    {
      "cell_type": "markdown",
      "metadata": {
        "id": "TPDoGu9mMr_x"
      },
      "source": [
        "### Model C\n",
        "\n",
        "\n",
        "Architecture\n",
        "\n",
        "1. Input Layer \n",
        "2. Hidden Layer (Dimension Size - 64)\n",
        "3. Activation Function\n",
        "4. Hidden Layer (Dimension Size - 128)\n",
        "5. Activation Function\n",
        "6. Hidden Layer (Dimension Size - 256)\n",
        "7. Activation Function\n",
        "8. Hidden Layer (Dimension Size - 512)\n",
        "9. Activation Function\n",
        "10. Output Layer (Dimension Size = Number of Classes = 10)"
      ]
    },
    {
      "cell_type": "code",
      "execution_count": null,
      "metadata": {
        "id": "FAaOMMjY1Jna"
      },
      "outputs": [],
      "source": [
        "# Model C Definition\n",
        "\n",
        "\n",
        "# Use the same variable name\n",
        "##### modelC = ...\n",
        "class C(nn.Module):\n",
        "    def __init__(self, input_size, hidden_size1, hidden_size2, hidden_size3, hidden_size4, num_classes):\n",
        "        super(C, self).__init__()\n",
        "        self.fc1 = nn.Linear(input_size, hidden_size1)\n",
        "        self.act1 = nn.ReLU()\n",
        "        self.fc2 = nn.Linear(hidden_size1, hidden_size2)\n",
        "        self.act2 = nn.ReLU()\n",
        "        self.fc3 = nn.Linear(hidden_size2, hidden_size3)\n",
        "        self.act3 = nn.ReLU()\n",
        "        self.fc4 = nn.Linear(hidden_size3, hidden_size4)\n",
        "        self.act4 = nn.ReLU()\n",
        "        self.fc5 = nn.Linear(hidden_size4, num_classes)\n",
        "\n",
        "    def forward(self, x):\n",
        "        out = self.fc1(x)\n",
        "        out = self.act1(out)\n",
        "        out = self.fc2(out)\n",
        "        out = self.act2(out)\n",
        "        out = self.fc3(out)\n",
        "        out = self.act3(out)\n",
        "        out = self.fc4(out)\n",
        "        out = self.act4(out)\n",
        "        out = self.fc5(out)\n",
        "        return out\n",
        "  \n",
        "modelC = C(input_size=784, hidden_size1=64, hidden_size2=128, hidden_size3=256, hidden_size4=512, num_classes=10)\n"
      ]
    },
    {
      "cell_type": "markdown",
      "metadata": {
        "id": "EFfgQVEz1Oqx"
      },
      "source": [
        "## Loss Function & Optimizer [2 marks]\n",
        "\n",
        "* Loss Function: Cross Entropy Loss\n",
        "* Optimizer : Adam\n",
        "\n",
        "Use PyTorch Library versions for these two."
      ]
    },
    {
      "cell_type": "code",
      "execution_count": null,
      "metadata": {
        "id": "-z7ogUqL1WMV"
      },
      "outputs": [],
      "source": [
        "# Use the same variable names\n",
        "criterion = nn.CrossEntropyLoss()\n",
        "optimizerA = torch.optim.Adam(modelA.parameters(), lr=0.001)\n",
        "optimizerB = torch.optim.Adam(modelB.parameters(), lr=0.001)\n",
        "optimizerC = torch.optim.Adam(modelC.parameters(), lr=0.001)"
      ]
    },
    {
      "cell_type": "markdown",
      "metadata": {
        "id": "OLnwW-h31oJa"
      },
      "source": [
        "## Training Loop [30 marks]\n",
        "\n",
        "We give you the freedom to choose Hyperparameters like learing rate, number of epochs etc, but take care to use the **same** hyperparameters for all the 3 models. Also clearly state the hyperparameters you have chosen\n",
        "\n",
        "For each model, You need to report these metrics: Training Loss, Validating Loss, Training Accuracyuracy, Validation Accuracyuracy at the end of each epoch.\n",
        "\n",
        "Also plot the graphs of the following (in separate cells)\n",
        "1. Training Loss & Validating Loss V/s Epoch\n",
        "2. Training Accuracyuracy & Validation Accuracyuracy V/s Epoch"
      ]
    },
    {
      "cell_type": "code",
      "execution_count": null,
      "metadata": {
        "id": "3ZVpEI-N8L5X"
      },
      "outputs": [],
      "source": [
        "# Define the hyperparameters (same for all 3 models) here\n",
        "num_epochs = 5\n",
        "learning_rate = 0.001"
      ]
    },
    {
      "cell_type": "markdown",
      "metadata": {
        "id": "UMdreKgU24od"
      },
      "source": [
        "### Model A \n",
        "\n"
      ]
    },
    {
      "cell_type": "code",
      "execution_count": null,
      "metadata": {
        "colab": {
          "base_uri": "https://localhost:8080/"
        },
        "id": "iyJ75sLw2Z5n",
        "outputId": "8c303397-0984-436b-a169-c640ab473a8c"
      },
      "outputs": [
        {
          "name": "stdout",
          "output_type": "stream",
          "text": [
            "Epoch [1/5], Step [100/782], Loss: 0.4177\n",
            "Epoch [1/5], Step [200/782], Loss: 0.5983\n",
            "Epoch [1/5], Step [300/782], Loss: 0.4087\n",
            "Epoch [1/5], Step [400/782], Loss: 0.2868\n",
            "Epoch [1/5], Step [500/782], Loss: 0.2096\n",
            "Epoch [1/5], Step [600/782], Loss: 0.2005\n",
            "Epoch [1/5], Step [700/782], Loss: 0.1385\n",
            "Epoch [1/5], Training Loss: 0.3942, Validating Loss: 0.2394, Training Accuracy: 88.92%, Validation Accuracy: 93.12%\n",
            "Epoch [2/5], Step [100/782], Loss: 0.1709\n",
            "Epoch [2/5], Step [200/782], Loss: 0.2155\n",
            "Epoch [2/5], Step [300/782], Loss: 0.2398\n",
            "Epoch [2/5], Step [400/782], Loss: 0.1007\n",
            "Epoch [2/5], Step [500/782], Loss: 0.0753\n",
            "Epoch [2/5], Step [600/782], Loss: 0.1531\n",
            "Epoch [2/5], Step [700/782], Loss: 0.3551\n",
            "Epoch [2/5], Training Loss: 0.1821, Validating Loss: 0.1700, Training Accuracy: 94.68%, Validation Accuracy: 94.99%\n",
            "Epoch [3/5], Step [100/782], Loss: 0.1312\n",
            "Epoch [3/5], Step [200/782], Loss: 0.0527\n",
            "Epoch [3/5], Step [300/782], Loss: 0.0339\n",
            "Epoch [3/5], Step [400/782], Loss: 0.0867\n",
            "Epoch [3/5], Step [500/782], Loss: 0.0168\n",
            "Epoch [3/5], Step [600/782], Loss: 0.0581\n",
            "Epoch [3/5], Step [700/782], Loss: 0.1694\n",
            "Epoch [3/5], Training Loss: 0.1289, Validating Loss: 0.1449, Training Accuracy: 96.10%, Validation Accuracy: 95.83%\n",
            "Epoch [4/5], Step [100/782], Loss: 0.0228\n",
            "Epoch [4/5], Step [200/782], Loss: 0.0656\n",
            "Epoch [4/5], Step [300/782], Loss: 0.0394\n",
            "Epoch [4/5], Step [400/782], Loss: 0.0911\n",
            "Epoch [4/5], Step [500/782], Loss: 0.1248\n",
            "Epoch [4/5], Step [600/782], Loss: 0.1069\n",
            "Epoch [4/5], Step [700/782], Loss: 0.0454\n",
            "Epoch [4/5], Training Loss: 0.0982, Validating Loss: 0.1273, Training Accuracy: 96.98%, Validation Accuracy: 96.05%\n",
            "Epoch [5/5], Step [100/782], Loss: 0.0367\n",
            "Epoch [5/5], Step [200/782], Loss: 0.0786\n",
            "Epoch [5/5], Step [300/782], Loss: 0.0250\n",
            "Epoch [5/5], Step [400/782], Loss: 0.1341\n",
            "Epoch [5/5], Step [500/782], Loss: 0.1169\n",
            "Epoch [5/5], Step [600/782], Loss: 0.1614\n",
            "Epoch [5/5], Step [700/782], Loss: 0.0664\n",
            "Epoch [5/5], Training Loss: 0.0788, Validating Loss: 0.1227, Training Accuracy: 97.55%, Validation Accuracy: 96.40%\n"
          ]
        }
      ],
      "source": [
        "# Training Loop for model D\n",
        "train_loss_data = []\n",
        "val_loss_data = []\n",
        "train_acc_data = []\n",
        "val_acc_data = []\n",
        "total_step = len(train_loader)\n",
        "for epoch in range(num_epochs):\n",
        "    train_loss = 0.0\n",
        "    train_total = 0\n",
        "    train_correct = 0\n",
        "    val_loss = 0.0\n",
        "    val_total = 0\n",
        "    val_correct = 0\n",
        "    for i, (images, labels) in enumerate(train_loader):\n",
        "        # Forward pass\n",
        "        outputs = modelA(images.reshape(-1, 28*28))\n",
        "        loss = criterion(outputs, labels)\n",
        "\n",
        "        # Backward and optimize\n",
        "        optimizerA.zero_grad()\n",
        "        loss.backward()\n",
        "        optimizerA.step()\n",
        "\n",
        "        # Track training loss and accuracy\n",
        "        train_loss += loss.item()\n",
        "        _, predicted = torch.max(outputs.data, 1)\n",
        "        train_total += labels.size(0)\n",
        "        train_correct += (predicted == labels).sum().item()\n",
        "\n",
        "        # Print training metrics\n",
        "        if (i+1) % 100 == 0:\n",
        "            print ('Epoch [{}/{}], Step [{}/{}], Loss: {:.4f}'.format(epoch+1, num_epochs, i+1, total_step, loss.item()))\n",
        "        # Evaluate network on validation set and track metrics\n",
        "    with torch.no_grad():\n",
        "        for images, labels in val_loader:\n",
        "            outputs = modelA(images.reshape(-1, 28*28))\n",
        "            loss = criterion(outputs, labels)\n",
        "            val_loss += loss.item()\n",
        "            _, predicted = torch.max(outputs.data, 1)\n",
        "            val_total += labels.size(0)\n",
        "            val_correct += (predicted == labels).sum().item()\n",
        "\n",
        "  # Record metrics\n",
        "    train_loss_data.append(train_loss / len(train_loader))\n",
        "    val_loss_data.append(val_loss / len(val_loader))\n",
        "    train_acc_data.append(100 * train_correct / train_total)\n",
        "    val_acc_data.append(100 * val_correct / val_total)\n",
        "\n",
        "# Print validation metrics\n",
        "    print('Epoch [{}/{}], Training Loss: {:.4f}, Validating Loss: {:.4f}, Training Accuracy: {:.2f}%, Validation Accuracy: {:.2f}%'\n",
        "          .format(epoch+1, num_epochs, train_loss_data[-1], val_loss_data[-1], train_acc_data[-1], val_acc_data[-1]))\n",
        "            \n",
        "A_val_accuracy = val_acc_data[-1]"
      ]
    },
    {
      "cell_type": "code",
      "execution_count": null,
      "metadata": {
        "colab": {
          "base_uri": "https://localhost:8080/",
          "height": 279
        },
        "id": "Gk8Atveg2nPj",
        "outputId": "7f34f5a0-9549-4b30-ebe0-6aa8f168d7a2"
      },
      "outputs": [
        {
          "data": {
            "image/png": "[encoded data removed]",
            "text/plain": [
              "<Figure size 432x288 with 1 Axes>"
            ]
          },
          "metadata": {
            "needs_background": "light"
          },
          "output_type": "display_data"
        }
      ],
      "source": [
        "# Plot Graph of Train & Validating Loss vs Epoch (together in same plot) for model A\n",
        "plt.plot(range(1, len(train_loss_data)+1),train_loss_data, label='Training Loss')\n",
        "plt.plot(range(1, len(val_loss_data)+1),val_loss_data, label='Validating Loss')\n",
        "plt.xlabel('Epoch')\n",
        "plt.ylabel('Loss')\n",
        "plt.legend()\n",
        "plt.show()"
      ]
    },
    {
      "cell_type": "code",
      "execution_count": null,
      "metadata": {
        "colab": {
          "base_uri": "https://localhost:8080/",
          "height": 279
        },
        "id": "VGTWAn_22n0m",
        "outputId": "bd1bcc31-0778-49cb-ee4f-a4b814ab996e"
      },
      "outputs": [
        {
          "data": {
            "image/png": "[encoded data removed]",
            "text/plain": [
              "<Figure size 432x288 with 1 Axes>"
            ]
          },
          "metadata": {
            "needs_background": "light"
          },
          "output_type": "display_data"
        }
      ],
      "source": [
        "# Plot Graph of Train & Validation Accuracyuracy vs Epoch (together in same plot) for model A\n",
        "plt.plot(range(1, len(train_acc_data)+1),train_acc_data, label='Training Accuracy')\n",
        "plt.plot(range(1, len(val_acc_data)+1),val_acc_data, label='Validation Accuracy')\n",
        "plt.xlabel('Epoch')\n",
        "plt.ylabel('Accuracy')\n",
        "plt.legend()\n",
        "plt.show()"
      ]
    },
    {
      "cell_type": "markdown",
      "metadata": {
        "id": "X-kUp7pk28n-"
      },
      "source": [
        "### Model B\n"
      ]
    },
    {
      "cell_type": "code",
      "execution_count": null,
      "metadata": {
        "colab": {
          "base_uri": "https://localhost:8080/"
        },
        "id": "jCmX8PqE22XP",
        "outputId": "bac3590e-4c16-461e-c007-1ccd10ea727c"
      },
      "outputs": [
        {
          "name": "stdout",
          "output_type": "stream",
          "text": [
            "Epoch [1/5], Step [100/782], Loss: 0.3214\n",
            "Epoch [1/5], Step [200/782], Loss: 0.4289\n",
            "Epoch [1/5], Step [300/782], Loss: 0.1709\n",
            "Epoch [1/5], Step [400/782], Loss: 0.4262\n",
            "Epoch [1/5], Step [500/782], Loss: 0.3117\n",
            "Epoch [1/5], Step [600/782], Loss: 0.1903\n",
            "Epoch [1/5], Step [700/782], Loss: 0.2529\n",
            "Epoch [1/5], Training Loss: 0.3606, Validating Loss: 0.1835, Training Accuracy: 89.12%, Validation Accuracy: 94.49%\n",
            "Epoch [2/5], Step [100/782], Loss: 0.1643\n",
            "Epoch [2/5], Step [200/782], Loss: 0.1702\n",
            "Epoch [2/5], Step [300/782], Loss: 0.2687\n",
            "Epoch [2/5], Step [400/782], Loss: 0.0668\n",
            "Epoch [2/5], Step [500/782], Loss: 0.0290\n",
            "Epoch [2/5], Step [600/782], Loss: 0.0854\n",
            "Epoch [2/5], Step [700/782], Loss: 0.1091\n",
            "Epoch [2/5], Training Loss: 0.1498, Validating Loss: 0.1490, Training Accuracy: 95.49%, Validation Accuracy: 95.47%\n",
            "Epoch [3/5], Step [100/782], Loss: 0.1430\n",
            "Epoch [3/5], Step [200/782], Loss: 0.2823\n",
            "Epoch [3/5], Step [300/782], Loss: 0.0382\n",
            "Epoch [3/5], Step [400/782], Loss: 0.0682\n",
            "Epoch [3/5], Step [500/782], Loss: 0.4091\n",
            "Epoch [3/5], Step [600/782], Loss: 0.1883\n",
            "Epoch [3/5], Step [700/782], Loss: 0.1882\n",
            "Epoch [3/5], Training Loss: 0.1054, Validating Loss: 0.1357, Training Accuracy: 96.70%, Validation Accuracy: 95.91%\n",
            "Epoch [4/5], Step [100/782], Loss: 0.0897\n",
            "Epoch [4/5], Step [200/782], Loss: 0.1166\n",
            "Epoch [4/5], Step [300/782], Loss: 0.0722\n",
            "Epoch [4/5], Step [400/782], Loss: 0.1894\n",
            "Epoch [4/5], Step [500/782], Loss: 0.1067\n",
            "Epoch [4/5], Step [600/782], Loss: 0.0606\n",
            "Epoch [4/5], Step [700/782], Loss: 0.0432\n",
            "Epoch [4/5], Training Loss: 0.0828, Validating Loss: 0.1087, Training Accuracy: 97.38%, Validation Accuracy: 96.74%\n",
            "Epoch [5/5], Step [100/782], Loss: 0.1298\n",
            "Epoch [5/5], Step [200/782], Loss: 0.1568\n",
            "Epoch [5/5], Step [300/782], Loss: 0.0915\n",
            "Epoch [5/5], Step [400/782], Loss: 0.0101\n",
            "Epoch [5/5], Step [500/782], Loss: 0.0550\n",
            "Epoch [5/5], Step [600/782], Loss: 0.0144\n",
            "Epoch [5/5], Step [700/782], Loss: 0.0592\n",
            "Epoch [5/5], Training Loss: 0.0688, Validating Loss: 0.1050, Training Accuracy: 97.85%, Validation Accuracy: 96.93%\n"
          ]
        }
      ],
      "source": [
        "# Training Loop for model B\n",
        "train_loss_data = []\n",
        "val_loss_data = []\n",
        "train_acc_data = []\n",
        "val_acc_data = []\n",
        "total_step = len(train_loader)\n",
        "for epoch in range(num_epochs):\n",
        "    train_loss = 0.0\n",
        "    train_total = 0\n",
        "    train_correct = 0\n",
        "    val_loss = 0.0\n",
        "    val_total = 0\n",
        "    val_correct = 0\n",
        "    for i, (images, labels) in enumerate(train_loader):\n",
        "        # Forward pass\n",
        "        outputs = modelB(images.reshape(-1, 28*28))\n",
        "        loss = criterion(outputs, labels)\n",
        "\n",
        "        # Backward and optimize\n",
        "        optimizerB.zero_grad()\n",
        "        loss.backward()\n",
        "        optimizerB.step()\n",
        "\n",
        "        # Track training loss and accuracy\n",
        "        train_loss += loss.item()\n",
        "        _, predicted = torch.max(outputs.data, 1)\n",
        "        train_total += labels.size(0)\n",
        "        train_correct += (predicted == labels).sum().item()\n",
        "\n",
        "        # Print training metrics\n",
        "        if (i+1) % 100 == 0:\n",
        "            print ('Epoch [{}/{}], Step [{}/{}], Loss: {:.4f}'.format(epoch+1, num_epochs, i+1, total_step, loss.item()))\n",
        "        # Evaluate network on validation set and track metrics\n",
        "    with torch.no_grad():\n",
        "        for images, labels in val_loader:\n",
        "            outputs = modelB(images.reshape(-1, 28*28))\n",
        "            loss = criterion(outputs, labels)\n",
        "            val_loss += loss.item()\n",
        "            _, predicted = torch.max(outputs.data, 1)\n",
        "            val_total += labels.size(0)\n",
        "            val_correct += (predicted == labels).sum().item()\n",
        "\n",
        "  # Record metrics\n",
        "    train_loss_data.append(train_loss / len(train_loader))\n",
        "    val_loss_data.append(val_loss / len(val_loader))\n",
        "    train_acc_data.append(100 * train_correct / train_total)\n",
        "    val_acc_data.append(100 * val_correct / val_total)\n",
        "\n",
        "# Print validation metrics\n",
        "    print('Epoch [{}/{}], Training Loss: {:.4f}, Validating Loss: {:.4f}, Training Accuracy: {:.2f}%, Validation Accuracy: {:.2f}%'\n",
        "          .format(epoch+1, num_epochs, train_loss_data[-1], val_loss_data[-1], train_acc_data[-1], val_acc_data[-1]))\n",
        "            \n",
        "\n",
        "B_val_accuracy = val_acc_data[-1]"
      ]
    },
    {
      "cell_type": "code",
      "execution_count": null,
      "metadata": {
        "colab": {
          "base_uri": "https://localhost:8080/",
          "height": 279
        },
        "id": "9pfLjJrI22XQ",
        "outputId": "eb5e39ce-5b41-4522-b491-d5c454b1b2c8"
      },
      "outputs": [
        {
          "data": {
            "image/png": "[encoded data removed]",
            "text/plain": [
              "<Figure size 432x288 with 1 Axes>"
            ]
          },
          "metadata": {
            "needs_background": "light"
          },
          "output_type": "display_data"
        }
      ],
      "source": [
        "# Plot Graph of Train & Validating Loss vs Epoch (together in same plot) for model B\n",
        "plt.plot(range(1, len(train_loss_data)+1),train_loss_data, label='Training Loss')\n",
        "plt.plot(range(1, len(val_loss_data)+1),val_loss_data, label='Validating Loss')\n",
        "plt.xlabel('Epoch')\n",
        "plt.ylabel('Loss')\n",
        "plt.legend()\n",
        "plt.show()"
      ]
    },
    {
      "cell_type": "code",
      "execution_count": null,
      "metadata": {
        "colab": {
          "base_uri": "https://localhost:8080/",
          "height": 279
        },
        "id": "KOy6REpK22XQ",
        "outputId": "6d493ca0-ade4-498f-d209-63db3f6e1df5"
      },
      "outputs": [
        {
          "data": {
            "image/png": "[encoded data removed]",
            "text/plain": [
              "<Figure size 432x288 with 1 Axes>"
            ]
          },
          "metadata": {
            "needs_background": "light"
          },
          "output_type": "display_data"
        }
      ],
      "source": [
        "# Plot Graph of Train & Validation Accuracyuracy vs Epoch (together in same plot) for model B\n",
        "plt.plot(range(1, len(train_acc_data)+1),train_acc_data, label='Training Accuracy')\n",
        "plt.plot(range(1, len(val_acc_data)+1),val_acc_data, label='Validation Accuracy')\n",
        "plt.xlabel('Epoch')\n",
        "plt.ylabel('Accuracy')\n",
        "plt.legend()\n",
        "plt.show()"
      ]
    },
    {
      "cell_type": "markdown",
      "metadata": {
        "id": "4JslKXgq3AUT"
      },
      "source": [
        "### Model C\n"
      ]
    },
    {
      "cell_type": "code",
      "execution_count": null,
      "metadata": {
        "colab": {
          "base_uri": "https://localhost:8080/"
        },
        "id": "2m3w2F5J22mq",
        "outputId": "b9101af9-24c0-45a9-a546-0ac4840f2c28"
      },
      "outputs": [
        {
          "name": "stdout",
          "output_type": "stream",
          "text": [
            "Epoch [1/5], Step [100/782], Loss: 0.2588\n",
            "Epoch [1/5], Step [200/782], Loss: 0.3303\n",
            "Epoch [1/5], Step [300/782], Loss: 0.2202\n",
            "Epoch [1/5], Step [400/782], Loss: 0.2539\n",
            "Epoch [1/5], Step [500/782], Loss: 0.1333\n",
            "Epoch [1/5], Step [600/782], Loss: 0.1136\n",
            "Epoch [1/5], Step [700/782], Loss: 0.0814\n",
            "Epoch [1/5], Training Loss: 0.3434, Validating Loss: 0.1731, Training Accuracy: 89.48%, Validation Accuracy: 94.79%\n",
            "Epoch [2/5], Step [100/782], Loss: 0.0198\n",
            "Epoch [2/5], Step [200/782], Loss: 0.1837\n",
            "Epoch [2/5], Step [300/782], Loss: 0.1864\n",
            "Epoch [2/5], Step [400/782], Loss: 0.1374\n",
            "Epoch [2/5], Step [500/782], Loss: 0.1219\n",
            "Epoch [2/5], Step [600/782], Loss: 0.0921\n",
            "Epoch [2/5], Step [700/782], Loss: 0.1211\n",
            "Epoch [2/5], Training Loss: 0.1417, Validating Loss: 0.1360, Training Accuracy: 95.75%, Validation Accuracy: 96.03%\n",
            "Epoch [3/5], Step [100/782], Loss: 0.0632\n",
            "Epoch [3/5], Step [200/782], Loss: 0.0977\n",
            "Epoch [3/5], Step [300/782], Loss: 0.1047\n",
            "Epoch [3/5], Step [400/782], Loss: 0.0579\n",
            "Epoch [3/5], Step [500/782], Loss: 0.2611\n",
            "Epoch [3/5], Step [600/782], Loss: 0.0818\n",
            "Epoch [3/5], Step [700/782], Loss: 0.2061\n",
            "Epoch [3/5], Training Loss: 0.1055, Validating Loss: 0.1433, Training Accuracy: 96.76%, Validation Accuracy: 95.59%\n",
            "Epoch [4/5], Step [100/782], Loss: 0.0291\n",
            "Epoch [4/5], Step [200/782], Loss: 0.0946\n",
            "Epoch [4/5], Step [300/782], Loss: 0.1075\n",
            "Epoch [4/5], Step [400/782], Loss: 0.1018\n",
            "Epoch [4/5], Step [500/782], Loss: 0.0817\n",
            "Epoch [4/5], Step [600/782], Loss: 0.0743\n",
            "Epoch [4/5], Step [700/782], Loss: 0.0058\n",
            "Epoch [4/5], Training Loss: 0.0823, Validating Loss: 0.1353, Training Accuracy: 97.48%, Validation Accuracy: 96.16%\n",
            "Epoch [5/5], Step [100/782], Loss: 0.0110\n",
            "Epoch [5/5], Step [200/782], Loss: 0.0281\n",
            "Epoch [5/5], Step [300/782], Loss: 0.1359\n",
            "Epoch [5/5], Step [400/782], Loss: 0.0660\n",
            "Epoch [5/5], Step [500/782], Loss: 0.0438\n",
            "Epoch [5/5], Step [600/782], Loss: 0.0203\n",
            "Epoch [5/5], Step [700/782], Loss: 0.0729\n",
            "Epoch [5/5], Training Loss: 0.0699, Validating Loss: 0.1128, Training Accuracy: 97.81%, Validation Accuracy: 96.75%\n"
          ]
        }
      ],
      "source": [
        "# Training Loop for model C\n",
        "# Training Loop for model C\n",
        "train_loss_data = []\n",
        "val_loss_data = []\n",
        "train_acc_data = []\n",
        "val_acc_data = []\n",
        "total_step = len(train_loader)\n",
        "for epoch in range(num_epochs):\n",
        "    train_loss = 0.0\n",
        "    train_total = 0\n",
        "    train_correct = 0\n",
        "    val_loss = 0.0\n",
        "    val_total = 0\n",
        "    val_correct = 0\n",
        "    for i, (images, labels) in enumerate(train_loader):\n",
        "        # Forward pass\n",
        "        outputs = modelC(images.reshape(-1, 28*28))\n",
        "        loss = criterion(outputs, labels)\n",
        "\n",
        "        # Backward and optimize\n",
        "        optimizerC.zero_grad()\n",
        "        loss.backward()\n",
        "        optimizerC.step()\n",
        "\n",
        "        # Track training loss and accuracy\n",
        "        train_loss += loss.item()\n",
        "        _, predicted = torch.max(outputs.data, 1)\n",
        "        train_total += labels.size(0)\n",
        "        train_correct += (predicted == labels).sum().item()\n",
        "\n",
        "        # Print training metrics\n",
        "        if (i+1) % 100 == 0:\n",
        "            print ('Epoch [{}/{}], Step [{}/{}], Loss: {:.4f}'.format(epoch+1, num_epochs, i+1, total_step, loss.item()))\n",
        "        # Evaluate network on validation set and track metrics\n",
        "    with torch.no_grad():\n",
        "        for images, labels in val_loader:\n",
        "            outputs = modelC(images.reshape(-1, 28*28))\n",
        "            loss = criterion(outputs, labels)\n",
        "            val_loss += loss.item()\n",
        "            _, predicted = torch.max(outputs.data, 1)\n",
        "            val_total += labels.size(0)\n",
        "            val_correct += (predicted == labels).sum().item()\n",
        "\n",
        "  # Record metrics\n",
        "    train_loss_data.append(train_loss / len(train_loader))\n",
        "    val_loss_data.append(val_loss / len(val_loader))\n",
        "    train_acc_data.append(100 * train_correct / train_total)\n",
        "    val_acc_data.append(100 * val_correct / val_total)\n",
        "\n",
        "# Print validation metrics\n",
        "    print('Epoch [{}/{}], Training Loss: {:.4f}, Validating Loss: {:.4f}, Training Accuracy: {:.2f}%, Validation Accuracy: {:.2f}%'\n",
        "          .format(epoch+1, num_epochs, train_loss_data[-1], val_loss_data[-1], train_acc_data[-1], val_acc_data[-1]))\n",
        "            \n",
        "C_val_accuracy = val_acc_data[-1]"
      ]
    },
    {
      "cell_type": "code",
      "execution_count": null,
      "metadata": {
        "colab": {
          "base_uri": "https://localhost:8080/",
          "height": 279
        },
        "id": "eN5XtgCl22mq",
        "outputId": "89b31808-1657-419f-b342-d6724a13b96f"
      },
      "outputs": [
        {
          "data": {
            "image/png": "[encoded data removed]",
            "text/plain": [
              "<Figure size 432x288 with 1 Axes>"
            ]
          },
          "metadata": {
            "needs_background": "light"
          },
          "output_type": "display_data"
        }
      ],
      "source": [
        "# Plot Graph of Train & Validating Loss vs Epoch (together in same plot) for model C\n",
        "plt.plot(range(1, len(train_loss_data)+1),train_loss_data, label='Training Loss')\n",
        "plt.plot(range(1, len(val_loss_data)+1),val_loss_data, label='Validating Loss')\n",
        "plt.xlabel('Epoch')\n",
        "plt.ylabel('Loss')\n",
        "plt.legend()\n",
        "plt.show()"
      ]
    },
    {
      "cell_type": "code",
      "execution_count": null,
      "metadata": {
        "colab": {
          "base_uri": "https://localhost:8080/",
          "height": 279
        },
        "id": "xwOen7-V22mr",
        "outputId": "7c768ec4-f431-4f44-8a9f-18e4a9e13d38"
      },
      "outputs": [
        {
          "data": {
            "image/png": "[encoded data removed]",
            "text/plain": [
              "<Figure size 432x288 with 1 Axes>"
            ]
          },
          "metadata": {
            "needs_background": "light"
          },
          "output_type": "display_data"
        }
      ],
      "source": [
        "# Plot Graph of Train & Validation Accuracyuracy vs Epoch (together in same plot) for model C\n",
        "plt.plot(range(1, len(train_acc_data)+1),train_acc_data, label='Training Accuracy')\n",
        "plt.plot(range(1, len(val_acc_data)+1),val_acc_data, label='Validation Accuracy')\n",
        "plt.xlabel('Epoch')\n",
        "plt.ylabel('Accuracy')\n",
        "plt.legend()\n",
        "plt.show()"
      ]
    },
    {
      "cell_type": "markdown",
      "metadata": {
        "id": "AZuT5E_r3LbK"
      },
      "source": [
        "## Choosing a Activation Function [10 marks]\n",
        "\n",
        "Based on the best performing model you found above, define 2 more models with these 2 activation functions (1 activation function is used throughout the model definiation). Use these Activation funcitons \n",
        "\n",
        "\n",
        "*   Tanh\n",
        "*   LeakyRELU"
      ]
    },
    {
      "cell_type": "code",
      "execution_count": null,
      "metadata": {
        "id": "uhAK1dvg3vkf"
      },
      "outputs": [],
      "source": [
        "#Best Model selection from A,B,C\n",
        "max_val = max(max(A_val_accuracy,B_val_accuracy),C_val_accuracy)\n",
        "if(max_val==A_val_accuracy):\n",
        "   best_model = modelA\n",
        "if(max_val==B_val_accuracy):\n",
        "   best_model = modelB\n",
        "if(max_val==C_val_accuracy):\n",
        "   best_model = modelC\n",
        "\n",
        "# Leaky ReLU model definiton\n",
        "class ModelD(nn.Module):\n",
        "    def __init__(self):\n",
        "        super(ModelD, self).__init__()\n",
        "        self.fc1 = nn.Linear(784, 64)\n",
        "        self.fc2 = nn.Linear(64, 128)\n",
        "        self.fc3 = nn.Linear(128, 256)\n",
        "        self.fc4 = nn.Linear(256, 512)\n",
        "        self.fc5 = nn.Linear(512, 10)\n",
        "        self.lrelu = nn.LeakyReLU()\n",
        "        \n",
        "    def forward(self, x):\n",
        "        x = x.view(-1, 784)\n",
        "        x = self.lrelu(self.fc1(x))\n",
        "        x = self.lrelu(self.fc2(x))\n",
        "        x = self.lrelu(self.fc3(x))\n",
        "        x = self.lrelu(self.fc4(x))\n",
        "        x = self.fc5(x)\n",
        "        return x\n",
        "# Tanh model definition\n",
        "class ModelE(nn.Module):\n",
        "    def __init__(self):\n",
        "        super(ModelE, self).__init__()\n",
        "        self.fc1 = nn.Linear(784, 64)\n",
        "        self.fc2 = nn.Linear(64, 128)\n",
        "        self.fc3 = nn.Linear(128, 256)\n",
        "        self.fc4 = nn.Linear(256, 512)\n",
        "        self.fc5 = nn.Linear(512, 10)\n",
        "        self.tanh = nn.Tanh()\n",
        "        \n",
        "    def forward(self, x):\n",
        "        x = x.view(-1, 784)\n",
        "        x = self.tanh(self.fc1(x))\n",
        "        x = self.tanh(self.fc2(x))\n",
        "        x = self.tanh(self.fc3(x))\n",
        "        x = self.tanh(self.fc4(x))\n",
        "        x = self.fc5(x)\n",
        "        return x\n",
        "\n",
        "\n",
        "# Maintain these variable names\n",
        "\n",
        "model_lrelu = ModelD()\n",
        "model_tanh = ModelE()\n",
        "optimizerD = torch.optim.Adam(model_lrelu.parameters(), lr=0.001)\n",
        "optimizerE = torch.optim.Adam(model_tanh.parameters(), lr=0.001)\n"
      ]
    },
    {
      "cell_type": "markdown",
      "metadata": {
        "id": "3P1fzs0P4Anx"
      },
      "source": [
        "### Training \n",
        "\n",
        "Train these two models with the same hyperparameters. Train in separate cells given below, and report the same metrics descrived previously (train_loss, val_loss, train_acc, val_acc)"
      ]
    },
    {
      "cell_type": "code",
      "execution_count": null,
      "metadata": {
        "colab": {
          "base_uri": "https://localhost:8080/",
          "height": 1000
        },
        "id": "-OAT_Rx64T0a",
        "outputId": "61e4ea9d-792f-4f5d-88ff-89bd715d15c1"
      },
      "outputs": [
        {
          "name": "stdout",
          "output_type": "stream",
          "text": [
            "Epoch [1/5], Step [100/782], Loss: 0.5157\n",
            "Epoch [1/5], Step [200/782], Loss: 0.3257\n",
            "Epoch [1/5], Step [300/782], Loss: 0.4272\n",
            "Epoch [1/5], Step [400/782], Loss: 0.2704\n",
            "Epoch [1/5], Step [500/782], Loss: 0.1623\n",
            "Epoch [1/5], Step [600/782], Loss: 0.3306\n",
            "Epoch [1/5], Step [700/782], Loss: 0.1358\n",
            "Epoch [1/5], Training Loss: 0.3422, Validating Loss: 0.1847, Training Accuracy: 89.52%, Validation Accuracy: 94.30%\n",
            "Epoch [2/5], Step [100/782], Loss: 0.1065\n",
            "Epoch [2/5], Step [200/782], Loss: 0.0495\n",
            "Epoch [2/5], Step [300/782], Loss: 0.0926\n",
            "Epoch [2/5], Step [400/782], Loss: 0.0536\n",
            "Epoch [2/5], Step [500/782], Loss: 0.2428\n",
            "Epoch [2/5], Step [600/782], Loss: 0.1315\n",
            "Epoch [2/5], Step [700/782], Loss: 0.0879\n",
            "Epoch [2/5], Training Loss: 0.1375, Validating Loss: 0.1621, Training Accuracy: 95.73%, Validation Accuracy: 95.25%\n",
            "Epoch [3/5], Step [100/782], Loss: 0.0216\n",
            "Epoch [3/5], Step [200/782], Loss: 0.1057\n",
            "Epoch [3/5], Step [300/782], Loss: 0.0249\n",
            "Epoch [3/5], Step [400/782], Loss: 0.0709\n",
            "Epoch [3/5], Step [500/782], Loss: 0.0640\n",
            "Epoch [3/5], Step [600/782], Loss: 0.1352\n",
            "Epoch [3/5], Step [700/782], Loss: 0.0205\n",
            "Epoch [3/5], Training Loss: 0.1010, Validating Loss: 0.1470, Training Accuracy: 96.85%, Validation Accuracy: 95.70%\n",
            "Epoch [4/5], Step [100/782], Loss: 0.0455\n",
            "Epoch [4/5], Step [200/782], Loss: 0.0565\n",
            "Epoch [4/5], Step [300/782], Loss: 0.1208\n",
            "Epoch [4/5], Step [400/782], Loss: 0.0330\n",
            "Epoch [4/5], Step [500/782], Loss: 0.0224\n",
            "Epoch [4/5], Step [600/782], Loss: 0.0715\n",
            "Epoch [4/5], Step [700/782], Loss: 0.0689\n",
            "Epoch [4/5], Training Loss: 0.0828, Validating Loss: 0.1168, Training Accuracy: 97.45%, Validation Accuracy: 96.64%\n",
            "Epoch [5/5], Step [100/782], Loss: 0.1178\n",
            "Epoch [5/5], Step [200/782], Loss: 0.0271\n",
            "Epoch [5/5], Step [300/782], Loss: 0.0136\n",
            "Epoch [5/5], Step [400/782], Loss: 0.0958\n",
            "Epoch [5/5], Step [500/782], Loss: 0.0446\n",
            "Epoch [5/5], Step [600/782], Loss: 0.0095\n",
            "Epoch [5/5], Step [700/782], Loss: 0.0336\n",
            "Epoch [5/5], Training Loss: 0.0705, Validating Loss: 0.1234, Training Accuracy: 97.77%, Validation Accuracy: 96.49%\n"
          ]
        },
        {
          "data": {
            "image/png": "[encoded data removed]",
            "text/plain": [
              "<Figure size 432x288 with 1 Axes>"
            ]
          },
          "metadata": {
            "needs_background": "light"
          },
          "output_type": "display_data"
        },
        {
          "data": {
            "image/png": "[encoded data removed]",
            "text/plain": [
              "<Figure size 432x288 with 1 Axes>"
            ]
          },
          "metadata": {
            "needs_background": "light"
          },
          "output_type": "display_data"
        }
      ],
      "source": [
        "# Training Loop for LRELU\n",
        "# Training Loop for model D\n",
        "train_loss_data = []\n",
        "val_loss_data = []\n",
        "train_acc_data = []\n",
        "val_acc_data = []\n",
        "total_step = len(train_loader)\n",
        "for epoch in range(num_epochs):\n",
        "    train_loss = 0.0\n",
        "    train_total = 0\n",
        "    train_correct = 0\n",
        "    val_loss = 0.0\n",
        "    val_total = 0\n",
        "    val_correct = 0\n",
        "    for i, (images, labels) in enumerate(train_loader):\n",
        "        # Forward pass\n",
        "        outputs = model_lrelu(images.reshape(-1, 28*28))\n",
        "        loss = criterion(outputs, labels)\n",
        "\n",
        "        # Backward and optimize\n",
        "        optimizerD.zero_grad()\n",
        "        loss.backward()\n",
        "        optimizerD.step()\n",
        "\n",
        "        # Track training loss and accuracy\n",
        "        train_loss += loss.item()\n",
        "        _, predicted = torch.max(outputs.data, 1)\n",
        "        train_total += labels.size(0)\n",
        "        train_correct += (predicted == labels).sum().item()\n",
        "\n",
        "        # Print training metrics\n",
        "        if (i+1) % 100 == 0:\n",
        "            print ('Epoch [{}/{}], Step [{}/{}], Loss: {:.4f}'.format(epoch+1, num_epochs, i+1, total_step, loss.item()))\n",
        "        # Evaluate network on validation set and track metrics\n",
        "    with torch.no_grad():\n",
        "        for images, labels in val_loader:\n",
        "            outputs = model_lrelu(images.reshape(-1, 28*28))\n",
        "            loss = criterion(outputs, labels)\n",
        "            val_loss += loss.item()\n",
        "            _, predicted = torch.max(outputs.data, 1)\n",
        "            val_total += labels.size(0)\n",
        "            val_correct += (predicted == labels).sum().item()\n",
        "\n",
        "  # Record metrics\n",
        "    train_loss_data.append(train_loss / len(train_loader))\n",
        "    val_loss_data.append(val_loss / len(val_loader))\n",
        "    train_acc_data.append(100 * train_correct / train_total)\n",
        "    val_acc_data.append(100 * val_correct / val_total)\n",
        "\n",
        "# Print validation metrics\n",
        "    print('Epoch [{}/{}], Training Loss: {:.4f}, Validating Loss: {:.4f}, Training Accuracy: {:.2f}%, Validation Accuracy: {:.2f}%'\n",
        "          .format(epoch+1, num_epochs, train_loss_data[-1], val_loss_data[-1], train_acc_data[-1], val_acc_data[-1]))\n",
        "            \n",
        "# Plot Graph of Train & Validating Loss vs Epoch (together in same plot) for model D\n",
        "plt.plot(range(1, len(train_loss_data)+1),train_loss_data, label='Training Loss')\n",
        "plt.plot(range(1, len(val_loss_data)+1),val_loss_data, label='Validating Loss')\n",
        "plt.xlabel('Epoch')\n",
        "plt.ylabel('Loss')\n",
        "plt.legend()\n",
        "plt.show()\n",
        "# Plot Graph of Train & Validation Accuracyuracy vs Epoch (together in same plot) for model D\n",
        "plt.plot(range(1, len(train_acc_data)+1),train_acc_data, label='Training Accuracy')\n",
        "plt.plot(range(1, len(val_acc_data)+1),val_acc_data, label='Validation Accuracy')\n",
        "plt.xlabel('Epoch')\n",
        "plt.ylabel('Accuracy')\n",
        "plt.legend()\n",
        "plt.show()"
      ]
    },
    {
      "cell_type": "code",
      "execution_count": null,
      "metadata": {
        "colab": {
          "base_uri": "https://localhost:8080/",
          "height": 1000
        },
        "id": "QuobAEP44Wrz",
        "outputId": "b2736551-40f9-4b27-9a15-e912f95f0f40"
      },
      "outputs": [
        {
          "name": "stdout",
          "output_type": "stream",
          "text": [
            "Epoch [1/5], Step [100/782], Loss: 0.2677\n",
            "Epoch [1/5], Step [200/782], Loss: 0.3094\n",
            "Epoch [1/5], Step [300/782], Loss: 0.2818\n",
            "Epoch [1/5], Step [400/782], Loss: 0.2055\n",
            "Epoch [1/5], Step [500/782], Loss: 0.2542\n",
            "Epoch [1/5], Step [600/782], Loss: 0.0978\n",
            "Epoch [1/5], Step [700/782], Loss: 0.2097\n",
            "Epoch [1/5], Training Loss: 0.3410, Validating Loss: 0.2203, Training Accuracy: 89.66%, Validation Accuracy: 93.46%\n",
            "Epoch [2/5], Step [100/782], Loss: 0.2726\n",
            "Epoch [2/5], Step [200/782], Loss: 0.2036\n",
            "Epoch [2/5], Step [300/782], Loss: 0.1365\n",
            "Epoch [2/5], Step [400/782], Loss: 0.2606\n",
            "Epoch [2/5], Step [500/782], Loss: 0.1967\n",
            "Epoch [2/5], Step [600/782], Loss: 0.2668\n",
            "Epoch [2/5], Step [700/782], Loss: 0.1190\n",
            "Epoch [2/5], Training Loss: 0.1744, Validating Loss: 0.1608, Training Accuracy: 94.65%, Validation Accuracy: 95.15%\n",
            "Epoch [3/5], Step [100/782], Loss: 0.0736\n",
            "Epoch [3/5], Step [200/782], Loss: 0.1812\n",
            "Epoch [3/5], Step [300/782], Loss: 0.1305\n",
            "Epoch [3/5], Step [400/782], Loss: 0.0188\n",
            "Epoch [3/5], Step [500/782], Loss: 0.0587\n",
            "Epoch [3/5], Step [600/782], Loss: 0.1486\n",
            "Epoch [3/5], Step [700/782], Loss: 0.1986\n",
            "Epoch [3/5], Training Loss: 0.1316, Validating Loss: 0.1602, Training Accuracy: 95.98%, Validation Accuracy: 95.11%\n",
            "Epoch [4/5], Step [100/782], Loss: 0.0298\n",
            "Epoch [4/5], Step [200/782], Loss: 0.0707\n",
            "Epoch [4/5], Step [300/782], Loss: 0.1411\n",
            "Epoch [4/5], Step [400/782], Loss: 0.0649\n",
            "Epoch [4/5], Step [500/782], Loss: 0.1648\n",
            "Epoch [4/5], Step [600/782], Loss: 0.0867\n",
            "Epoch [4/5], Step [700/782], Loss: 0.2194\n",
            "Epoch [4/5], Training Loss: 0.1046, Validating Loss: 0.1406, Training Accuracy: 96.81%, Validation Accuracy: 95.69%\n",
            "Epoch [5/5], Step [100/782], Loss: 0.0515\n",
            "Epoch [5/5], Step [200/782], Loss: 0.0500\n",
            "Epoch [5/5], Step [300/782], Loss: 0.2457\n",
            "Epoch [5/5], Step [400/782], Loss: 0.0240\n",
            "Epoch [5/5], Step [500/782], Loss: 0.0376\n",
            "Epoch [5/5], Step [600/782], Loss: 0.1088\n",
            "Epoch [5/5], Step [700/782], Loss: 0.0180\n",
            "Epoch [5/5], Training Loss: 0.0850, Validating Loss: 0.1348, Training Accuracy: 97.40%, Validation Accuracy: 95.98%\n"
          ]
        },
        {
          "data": {
            "image/png": "[encoded data removed]",
            "text/plain": [
              "<Figure size 432x288 with 1 Axes>"
            ]
          },
          "metadata": {
            "needs_background": "light"
          },
          "output_type": "display_data"
        },
        {
          "data": {
            "image/png": "[encoded data removed]",
            "text/plain": [
              "<Figure size 432x288 with 1 Axes>"
            ]
          },
          "metadata": {
            "needs_background": "light"
          },
          "output_type": "display_data"
        }
      ],
      "source": [
        "# Training Loop for TanH\n",
        "# Training Loop for model D\n",
        "train_loss_data = []\n",
        "val_loss_data = []\n",
        "train_acc_data = []\n",
        "val_acc_data = []\n",
        "total_step = len(train_loader)\n",
        "for epoch in range(num_epochs):\n",
        "    train_loss = 0.0\n",
        "    train_total = 0\n",
        "    train_correct = 0\n",
        "    val_loss = 0.0\n",
        "    val_total = 0\n",
        "    val_correct = 0\n",
        "    for i, (images, labels) in enumerate(train_loader):\n",
        "        # Forward pass\n",
        "        outputs = model_tanh(images.reshape(-1, 28*28))\n",
        "        loss = criterion(outputs, labels)\n",
        "\n",
        "        # Backward and optimize\n",
        "        optimizerE.zero_grad()\n",
        "        loss.backward()\n",
        "        optimizerE.step()\n",
        "\n",
        "        # Track training loss and accuracy\n",
        "        train_loss += loss.item()\n",
        "        _, predicted = torch.max(outputs.data, 1)\n",
        "        train_total += labels.size(0)\n",
        "        train_correct += (predicted == labels).sum().item()\n",
        "\n",
        "        # Print training metrics\n",
        "        if (i+1) % 100 == 0:\n",
        "            print ('Epoch [{}/{}], Step [{}/{}], Loss: {:.4f}'.format(epoch+1, num_epochs, i+1, total_step, loss.item()))\n",
        "        # Evaluate network on validation set and track metrics\n",
        "    with torch.no_grad():\n",
        "        for images, labels in val_loader:\n",
        "            outputs = model_tanh(images.reshape(-1, 28*28))\n",
        "            loss = criterion(outputs, labels)\n",
        "            val_loss += loss.item()\n",
        "            _, predicted = torch.max(outputs.data, 1)\n",
        "            val_total += labels.size(0)\n",
        "            val_correct += (predicted == labels).sum().item()\n",
        "\n",
        "  # Record metrics\n",
        "    train_loss_data.append(train_loss / len(train_loader))\n",
        "    val_loss_data.append(val_loss / len(val_loader))\n",
        "    train_acc_data.append(100 * train_correct / train_total)\n",
        "    val_acc_data.append(100 * val_correct / val_total)\n",
        "\n",
        "# Print validation metrics\n",
        "    print('Epoch [{}/{}], Training Loss: {:.4f}, Validating Loss: {:.4f}, Training Accuracy: {:.2f}%, Validation Accuracy: {:.2f}%'\n",
        "          .format(epoch+1, num_epochs, train_loss_data[-1], val_loss_data[-1], train_acc_data[-1], val_acc_data[-1]))\n",
        "# Plot Graph of Train & Validating Loss vs Epoch (together in same plot) for model D\n",
        "plt.plot(range(1, len(train_loss_data)+1),train_loss_data, label='Training Loss')\n",
        "plt.plot(range(1, len(val_loss_data)+1),val_loss_data, label='Validating Loss')\n",
        "plt.xlabel('Epoch')\n",
        "plt.ylabel('Loss')\n",
        "plt.legend()\n",
        "plt.show()           \n",
        "# Plot Graph of Train & Validation Accuracyuracy vs Epoch (together in same plot) for model E\n",
        "plt.plot(range(1, len(train_acc_data)+1),train_acc_data, label='Training Accuracy')\n",
        "plt.plot(range(1, len(val_acc_data)+1),val_acc_data, label='Validation Accuracy')\n",
        "plt.xlabel('Epoch')\n",
        "plt.ylabel('Accuracy')\n",
        "plt.legend()\n",
        "plt.show()"
      ]
    },
    {
      "cell_type": "markdown",
      "metadata": {
        "id": "WjH0LdKA4tYW"
      },
      "source": [
        "### Results on Test Set\n",
        "\n",
        "Report the Test Set classfication accuracy for the three activation functions (ReLU, LeakyReLU & TanH) and state which activation function gave the best performance on test set"
      ]
    },
    {
      "cell_type": "code",
      "execution_count": null,
      "metadata": {
        "id": "gFeLvSrN4vT_"
      },
      "outputs": [],
      "source": [
        "# Define how to calculate Accuracy on Test Set\n",
        "best_model.eval()\n",
        "with torch.no_grad():\n",
        "    # Initialize variables for calculating accuracy\n",
        "    total = 0\n",
        "    correct = 0\n",
        "    # Iterate over the test set\n",
        "    for images, labels in test_loader:\n",
        "        # Forward pass\n",
        "        outputs = best_model(images.reshape(-1,28*28))\n",
        "        # Calculate loss\n",
        "        loss = criterion(outputs, labels)\n",
        "        # Get predicted labels\n",
        "        _, predicted = torch.max(outputs.data, 1)\n",
        "        # Update total and correct counts\n",
        "        total += labels.size(0)\n",
        "        correct += (predicted == labels).sum().item()\n",
        "    # Calculate accuracy\n",
        "    accuracy_best_model = 100 * correct / total\n",
        "\n",
        "# Evaluate model_lrelu\n",
        "model_lrelu.eval()\n",
        "with torch.no_grad():\n",
        "    # Initialize variables for calculating accuracy\n",
        "    total = 0\n",
        "    correct = 0\n",
        "    # Iterate over the test set\n",
        "    for images, labels in test_loader:\n",
        "        # Forward pass\n",
        "        outputs = model_lrelu(images)\n",
        "        # Calculate loss\n",
        "        loss = criterion(outputs, labels)\n",
        "        # Get predicted labels\n",
        "        _, predicted = torch.max(outputs.data, 1)\n",
        "        # Update total and correct counts\n",
        "        total += labels.size(0)\n",
        "        correct += (predicted == labels).sum().item()\n",
        "    # Calculate accuracy\n",
        "    accuracy_lrelu = 100 * correct / total\n",
        "\n",
        "# Evaluate model_tanh\n",
        "model_tanh.eval()\n",
        "with torch.no_grad():\n",
        "    # Initialize variables for calculating accuracy\n",
        "    total = 0\n",
        "    correct = 0\n",
        "    # Iterate over the test set\n",
        "    for images, labels in test_loader:\n",
        "        # Forward pass\n",
        "        outputs = model_tanh(images)\n",
        "        # Calculate loss\n",
        "        loss = criterion(outputs, labels)\n",
        "        # Get predicted labels\n",
        "        _, predicted = torch.max(outputs.data, 1)\n",
        "        # Update total and correct counts\n",
        "        total += labels.size(0)\n",
        "        correct += (predicted == labels).sum().item()\n",
        "    # Calculate accuracy\n",
        "    accuracy_tanh = 100 * correct / total"
      ]
    },
    {
      "cell_type": "code",
      "execution_count": null,
      "metadata": {
        "colab": {
          "base_uri": "https://localhost:8080/"
        },
        "id": "q8dhJf4W7cKu",
        "outputId": "ef8fe694-02f1-464d-dc91-890a3cbdc487"
      },
      "outputs": [
        {
          "name": "stdout",
          "output_type": "stream",
          "text": [
            "97.19\n"
          ]
        }
      ],
      "source": [
        "# Accuracy of RELU model\n",
        "print(accuracy_best_model)"
      ]
    },
    {
      "cell_type": "code",
      "execution_count": null,
      "metadata": {
        "colab": {
          "base_uri": "https://localhost:8080/"
        },
        "id": "Uouc_R9t7cV3",
        "outputId": "f7757a88-ee0b-481f-c905-7e904680c911"
      },
      "outputs": [
        {
          "name": "stdout",
          "output_type": "stream",
          "text": [
            "96.89\n"
          ]
        }
      ],
      "source": [
        "# Accuracy of LeakyReLU model\n",
        "print(accuracy_lrelu)"
      ]
    },
    {
      "cell_type": "code",
      "execution_count": null,
      "metadata": {
        "colab": {
          "base_uri": "https://localhost:8080/"
        },
        "id": "tjLBwh577chM",
        "outputId": "30e19176-f75c-41dc-b3c8-bb8508dafaa9"
      },
      "outputs": [
        {
          "name": "stdout",
          "output_type": "stream",
          "text": [
            "96.46\n"
          ]
        }
      ],
      "source": [
        "# Accuracy of TanH model\n",
        "print(accuracy_tanh)"
      ]
    },
    {
      "cell_type": "markdown",
      "metadata": {
        "id": "5xelRHJV7Lmj"
      },
      "source": [
        "Fill in these with the values you obtained from training.\n",
        "\n",
        "---\n",
        "\n",
        "\n",
        "\n",
        "* ReLU model Test Set Accuracy: `97.19` %\n",
        "* LeakReLU model Test Set Accuracy: `96.89` %\n",
        "* TanH model Test Set Accuracy: `96.46` %"
      ]
    },
    {
      "cell_type": "markdown",
      "source": [
        "The best performing activation function is ReLU on the given Test Set"
      ],
      "metadata": {
        "id": "9m72vKO93T-M"
      }
    }
  ],
  "metadata": {
    "accelerator": "GPU",
    "colab": {
      "provenance": []
    },
    "gpuClass": "standard",
    "kernelspec": {
      "display_name": "Python 3",
      "language": "python",
      "name": "python3"
    },
    "language_info": {
      "name": "python",
      "version": "3.10.0"
    },
    "vscode": {
      "interpreter": {
        "hash": "aee8b7b246df8f9039afb4144a1f6fd8d2ca17a180786b69acc140d282b71a49"
      }
    },
    "widgets": {
      "application/vnd.jupyter.widget-state+json": {
        "16448ef2d98f4fd7b00ba7f8b3126351": {
          "model_module": "@jupyter-widgets/controls",
          "model_module_version": "1.5.0",
          "model_name": "HTMLModel",
          "state": {
            "_dom_classes": [],
            "_model_module": "@jupyter-widgets/controls",
            "_model_module_version": "1.5.0",
            "_model_name": "HTMLModel",
            "_view_count": null,
            "_view_module": "@jupyter-widgets/controls",
            "_view_module_version": "1.5.0",
            "_view_name": "HTMLView",
            "description": "",
            "description_tooltip": null,
            "layout": "IPY_MODEL_1a9036476a984132be664a39cdb07211",
            "placeholder": "​",
            "style": "IPY_MODEL_eb80800edf1a4c06b86ec3c328390a99",
            "value": " 1648877/1648877 [00:00&lt;00:00, 36322195.94it/s]"
          }
        },
        "19e809064f3545778bed3771131dd5bd": {
          "model_module": "@jupyter-widgets/controls",
          "model_module_version": "1.5.0",
          "model_name": "HBoxModel",
          "state": {
            "_dom_classes": [],
            "_model_module": "@jupyter-widgets/controls",
            "_model_module_version": "1.5.0",
            "_model_name": "HBoxModel",
            "_view_count": null,
            "_view_module": "@jupyter-widgets/controls",
            "_view_module_version": "1.5.0",
            "_view_name": "HBoxView",
            "box_style": "",
            "children": [
              "IPY_MODEL_3a33b2bdf651427bbc0de7e85bf73609",
              "IPY_MODEL_25de1421f58c406d990ad006afe467d9",
              "IPY_MODEL_7ff709746d134538b309c9877ae45339"
            ],
            "layout": "IPY_MODEL_58f572b84a7c476884b5d4df6341a4d9"
          }
        },
        "1a9036476a984132be664a39cdb07211": {
          "model_module": "@jupyter-widgets/base",
          "model_module_version": "1.2.0",
          "model_name": "LayoutModel",
          "state": {
            "_model_module": "@jupyter-widgets/base",
            "_model_module_version": "1.2.0",
            "_model_name": "LayoutModel",
            "_view_count": null,
            "_view_module": "@jupyter-widgets/base",
            "_view_module_version": "1.2.0",
            "_view_name": "LayoutView",
            "align_content": null,
            "align_items": null,
            "align_self": null,
            "border": null,
            "bottom": null,
            "display": null,
            "flex": null,
            "flex_flow": null,
            "grid_area": null,
            "grid_auto_columns": null,
            "grid_auto_flow": null,
            "grid_auto_rows": null,
            "grid_column": null,
            "grid_gap": null,
            "grid_row": null,
            "grid_template_areas": null,
            "grid_template_columns": null,
            "grid_template_rows": null,
            "height": null,
            "justify_content": null,
            "justify_items": null,
            "left": null,
            "margin": null,
            "max_height": null,
            "max_width": null,
            "min_height": null,
            "min_width": null,
            "object_fit": null,
            "object_position": null,
            "order": null,
            "overflow": null,
            "overflow_x": null,
            "overflow_y": null,
            "padding": null,
            "right": null,
            "top": null,
            "visibility": null,
            "width": null
          }
        },
        "1b437786f5964648be7de35a65d37fc0": {
          "model_module": "@jupyter-widgets/controls",
          "model_module_version": "1.5.0",
          "model_name": "FloatProgressModel",
          "state": {
            "_dom_classes": [],
            "_model_module": "@jupyter-widgets/controls",
            "_model_module_version": "1.5.0",
            "_model_name": "FloatProgressModel",
            "_view_count": null,
            "_view_module": "@jupyter-widgets/controls",
            "_view_module_version": "1.5.0",
            "_view_name": "ProgressView",
            "bar_style": "success",
            "description": "",
            "description_tooltip": null,
            "layout": "IPY_MODEL_9d54b1af37a146f69919aa4c0da506a3",
            "max": 1648877,
            "min": 0,
            "orientation": "horizontal",
            "style": "IPY_MODEL_b31d84ffdbd64d33ab196e2c8eb3cd2f",
            "value": 1648877
          }
        },
        "1c3ab3e28072481ba4d01b4a5c02d454": {
          "model_module": "@jupyter-widgets/base",
          "model_module_version": "1.2.0",
          "model_name": "LayoutModel",
          "state": {
            "_model_module": "@jupyter-widgets/base",
            "_model_module_version": "1.2.0",
            "_model_name": "LayoutModel",
            "_view_count": null,
            "_view_module": "@jupyter-widgets/base",
            "_view_module_version": "1.2.0",
            "_view_name": "LayoutView",
            "align_content": null,
            "align_items": null,
            "align_self": null,
            "border": null,
            "bottom": null,
            "display": null,
            "flex": null,
            "flex_flow": null,
            "grid_area": null,
            "grid_auto_columns": null,
            "grid_auto_flow": null,
            "grid_auto_rows": null,
            "grid_column": null,
            "grid_gap": null,
            "grid_row": null,
            "grid_template_areas": null,
            "grid_template_columns": null,
            "grid_template_rows": null,
            "height": null,
            "justify_content": null,
            "justify_items": null,
            "left": null,
            "margin": null,
            "max_height": null,
            "max_width": null,
            "min_height": null,
            "min_width": null,
            "object_fit": null,
            "object_position": null,
            "order": null,
            "overflow": null,
            "overflow_x": null,
            "overflow_y": null,
            "padding": null,
            "right": null,
            "top": null,
            "visibility": null,
            "width": null
          }
        },
        "213de87252ed472ea31ccec2296cc73d": {
          "model_module": "@jupyter-widgets/base",
          "model_module_version": "1.2.0",
          "model_name": "LayoutModel",
          "state": {
            "_model_module": "@jupyter-widgets/base",
            "_model_module_version": "1.2.0",
            "_model_name": "LayoutModel",
            "_view_count": null,
            "_view_module": "@jupyter-widgets/base",
            "_view_module_version": "1.2.0",
            "_view_name": "LayoutView",
            "align_content": null,
            "align_items": null,
            "align_self": null,
            "border": null,
            "bottom": null,
            "display": null,
            "flex": null,
            "flex_flow": null,
            "grid_area": null,
            "grid_auto_columns": null,
            "grid_auto_flow": null,
            "grid_auto_rows": null,
            "grid_column": null,
            "grid_gap": null,
            "grid_row": null,
            "grid_template_areas": null,
            "grid_template_columns": null,
            "grid_template_rows": null,
            "height": null,
            "justify_content": null,
            "justify_items": null,
            "left": null,
            "margin": null,
            "max_height": null,
            "max_width": null,
            "min_height": null,
            "min_width": null,
            "object_fit": null,
            "object_position": null,
            "order": null,
            "overflow": null,
            "overflow_x": null,
            "overflow_y": null,
            "padding": null,
            "right": null,
            "top": null,
            "visibility": null,
            "width": null
          }
        },
        "25de1421f58c406d990ad006afe467d9": {
          "model_module": "@jupyter-widgets/controls",
          "model_module_version": "1.5.0",
          "model_name": "FloatProgressModel",
          "state": {
            "_dom_classes": [],
            "_model_module": "@jupyter-widgets/controls",
            "_model_module_version": "1.5.0",
            "_model_name": "FloatProgressModel",
            "_view_count": null,
            "_view_module": "@jupyter-widgets/controls",
            "_view_module_version": "1.5.0",
            "_view_name": "ProgressView",
            "bar_style": "success",
            "description": "",
            "description_tooltip": null,
            "layout": "IPY_MODEL_4516644ef9584368b2f5e9af3d27db1c",
            "max": 9912422,
            "min": 0,
            "orientation": "horizontal",
            "style": "IPY_MODEL_d8f972c179de4da58a8347d6c8051d35",
            "value": 9912422
          }
        },
        "2738c9db54b241fd8e9bb9a0fcd1d537": {
          "model_module": "@jupyter-widgets/controls",
          "model_module_version": "1.5.0",
          "model_name": "DescriptionStyleModel",
          "state": {
            "_model_module": "@jupyter-widgets/controls",
            "_model_module_version": "1.5.0",
            "_model_name": "DescriptionStyleModel",
            "_view_count": null,
            "_view_module": "@jupyter-widgets/base",
            "_view_module_version": "1.2.0",
            "_view_name": "StyleView",
            "description_width": ""
          }
        },
        "2d9eecdced72480ea57ac8b592d6a102": {
          "model_module": "@jupyter-widgets/controls",
          "model_module_version": "1.5.0",
          "model_name": "DescriptionStyleModel",
          "state": {
            "_model_module": "@jupyter-widgets/controls",
            "_model_module_version": "1.5.0",
            "_model_name": "DescriptionStyleModel",
            "_view_count": null,
            "_view_module": "@jupyter-widgets/base",
            "_view_module_version": "1.2.0",
            "_view_name": "StyleView",
            "description_width": ""
          }
        },
        "3a33b2bdf651427bbc0de7e85bf73609": {
          "model_module": "@jupyter-widgets/controls",
          "model_module_version": "1.5.0",
          "model_name": "HTMLModel",
          "state": {
            "_dom_classes": [],
            "_model_module": "@jupyter-widgets/controls",
            "_model_module_version": "1.5.0",
            "_model_name": "HTMLModel",
            "_view_count": null,
            "_view_module": "@jupyter-widgets/controls",
            "_view_module_version": "1.5.0",
            "_view_name": "HTMLView",
            "description": "",
            "description_tooltip": null,
            "layout": "IPY_MODEL_42b6236aa2224bf2b665c2b58490849d",
            "placeholder": "​",
            "style": "IPY_MODEL_6478451e463742858046ad6c12378b5a",
            "value": "100%"
          }
        },
        "40bbe39eff5449c3944ec8113ec0dab4": {
          "model_module": "@jupyter-widgets/base",
          "model_module_version": "1.2.0",
          "model_name": "LayoutModel",
          "state": {
            "_model_module": "@jupyter-widgets/base",
            "_model_module_version": "1.2.0",
            "_model_name": "LayoutModel",
            "_view_count": null,
            "_view_module": "@jupyter-widgets/base",
            "_view_module_version": "1.2.0",
            "_view_name": "LayoutView",
            "align_content": null,
            "align_items": null,
            "align_self": null,
            "border": null,
            "bottom": null,
            "display": null,
            "flex": null,
            "flex_flow": null,
            "grid_area": null,
            "grid_auto_columns": null,
            "grid_auto_flow": null,
            "grid_auto_rows": null,
            "grid_column": null,
            "grid_gap": null,
            "grid_row": null,
            "grid_template_areas": null,
            "grid_template_columns": null,
            "grid_template_rows": null,
            "height": null,
            "justify_content": null,
            "justify_items": null,
            "left": null,
            "margin": null,
            "max_height": null,
            "max_width": null,
            "min_height": null,
            "min_width": null,
            "object_fit": null,
            "object_position": null,
            "order": null,
            "overflow": null,
            "overflow_x": null,
            "overflow_y": null,
            "padding": null,
            "right": null,
            "top": null,
            "visibility": null,
            "width": null
          }
        },
        "42b6236aa2224bf2b665c2b58490849d": {
          "model_module": "@jupyter-widgets/base",
          "model_module_version": "1.2.0",
          "model_name": "LayoutModel",
          "state": {
            "_model_module": "@jupyter-widgets/base",
            "_model_module_version": "1.2.0",
            "_model_name": "LayoutModel",
            "_view_count": null,
            "_view_module": "@jupyter-widgets/base",
            "_view_module_version": "1.2.0",
            "_view_name": "LayoutView",
            "align_content": null,
            "align_items": null,
            "align_self": null,
            "border": null,
            "bottom": null,
            "display": null,
            "flex": null,
            "flex_flow": null,
            "grid_area": null,
            "grid_auto_columns": null,
            "grid_auto_flow": null,
            "grid_auto_rows": null,
            "grid_column": null,
            "grid_gap": null,
            "grid_row": null,
            "grid_template_areas": null,
            "grid_template_columns": null,
            "grid_template_rows": null,
            "height": null,
            "justify_content": null,
            "justify_items": null,
            "left": null,
            "margin": null,
            "max_height": null,
            "max_width": null,
            "min_height": null,
            "min_width": null,
            "object_fit": null,
            "object_position": null,
            "order": null,
            "overflow": null,
            "overflow_x": null,
            "overflow_y": null,
            "padding": null,
            "right": null,
            "top": null,
            "visibility": null,
            "width": null
          }
        },
        "4516644ef9584368b2f5e9af3d27db1c": {
          "model_module": "@jupyter-widgets/base",
          "model_module_version": "1.2.0",
          "model_name": "LayoutModel",
          "state": {
            "_model_module": "@jupyter-widgets/base",
            "_model_module_version": "1.2.0",
            "_model_name": "LayoutModel",
            "_view_count": null,
            "_view_module": "@jupyter-widgets/base",
            "_view_module_version": "1.2.0",
            "_view_name": "LayoutView",
            "align_content": null,
            "align_items": null,
            "align_self": null,
            "border": null,
            "bottom": null,
            "display": null,
            "flex": null,
            "flex_flow": null,
            "grid_area": null,
            "grid_auto_columns": null,
            "grid_auto_flow": null,
            "grid_auto_rows": null,
            "grid_column": null,
            "grid_gap": null,
            "grid_row": null,
            "grid_template_areas": null,
            "grid_template_columns": null,
            "grid_template_rows": null,
            "height": null,
            "justify_content": null,
            "justify_items": null,
            "left": null,
            "margin": null,
            "max_height": null,
            "max_width": null,
            "min_height": null,
            "min_width": null,
            "object_fit": null,
            "object_position": null,
            "order": null,
            "overflow": null,
            "overflow_x": null,
            "overflow_y": null,
            "padding": null,
            "right": null,
            "top": null,
            "visibility": null,
            "width": null
          }
        },
        "4be9dd70b1794ff3b2c16b734e0afd26": {
          "model_module": "@jupyter-widgets/controls",
          "model_module_version": "1.5.0",
          "model_name": "HBoxModel",
          "state": {
            "_dom_classes": [],
            "_model_module": "@jupyter-widgets/controls",
            "_model_module_version": "1.5.0",
            "_model_name": "HBoxModel",
            "_view_count": null,
            "_view_module": "@jupyter-widgets/controls",
            "_view_module_version": "1.5.0",
            "_view_name": "HBoxView",
            "box_style": "",
            "children": [
              "IPY_MODEL_bf7158bbd15e484fa03fefaab085a783",
              "IPY_MODEL_1b437786f5964648be7de35a65d37fc0",
              "IPY_MODEL_16448ef2d98f4fd7b00ba7f8b3126351"
            ],
            "layout": "IPY_MODEL_df32df52cb8d4481b56ba6e1f0d63442"
          }
        },
        "531982f78ae6481a8e39a860fc799c89": {
          "model_module": "@jupyter-widgets/controls",
          "model_module_version": "1.5.0",
          "model_name": "ProgressStyleModel",
          "state": {
            "_model_module": "@jupyter-widgets/controls",
            "_model_module_version": "1.5.0",
            "_model_name": "ProgressStyleModel",
            "_view_count": null,
            "_view_module": "@jupyter-widgets/base",
            "_view_module_version": "1.2.0",
            "_view_name": "StyleView",
            "bar_color": null,
            "description_width": ""
          }
        },
        "58f572b84a7c476884b5d4df6341a4d9": {
          "model_module": "@jupyter-widgets/base",
          "model_module_version": "1.2.0",
          "model_name": "LayoutModel",
          "state": {
            "_model_module": "@jupyter-widgets/base",
            "_model_module_version": "1.2.0",
            "_model_name": "LayoutModel",
            "_view_count": null,
            "_view_module": "@jupyter-widgets/base",
            "_view_module_version": "1.2.0",
            "_view_name": "LayoutView",
            "align_content": null,
            "align_items": null,
            "align_self": null,
            "border": null,
            "bottom": null,
            "display": null,
            "flex": null,
            "flex_flow": null,
            "grid_area": null,
            "grid_auto_columns": null,
            "grid_auto_flow": null,
            "grid_auto_rows": null,
            "grid_column": null,
            "grid_gap": null,
            "grid_row": null,
            "grid_template_areas": null,
            "grid_template_columns": null,
            "grid_template_rows": null,
            "height": null,
            "justify_content": null,
            "justify_items": null,
            "left": null,
            "margin": null,
            "max_height": null,
            "max_width": null,
            "min_height": null,
            "min_width": null,
            "object_fit": null,
            "object_position": null,
            "order": null,
            "overflow": null,
            "overflow_x": null,
            "overflow_y": null,
            "padding": null,
            "right": null,
            "top": null,
            "visibility": null,
            "width": null
          }
        },
        "6478451e463742858046ad6c12378b5a": {
          "model_module": "@jupyter-widgets/controls",
          "model_module_version": "1.5.0",
          "model_name": "DescriptionStyleModel",
          "state": {
            "_model_module": "@jupyter-widgets/controls",
            "_model_module_version": "1.5.0",
            "_model_name": "DescriptionStyleModel",
            "_view_count": null,
            "_view_module": "@jupyter-widgets/base",
            "_view_module_version": "1.2.0",
            "_view_name": "StyleView",
            "description_width": ""
          }
        },
        "7692a97c226f4f9399d962622c4d5c31": {
          "model_module": "@jupyter-widgets/controls",
          "model_module_version": "1.5.0",
          "model_name": "ProgressStyleModel",
          "state": {
            "_model_module": "@jupyter-widgets/controls",
            "_model_module_version": "1.5.0",
            "_model_name": "ProgressStyleModel",
            "_view_count": null,
            "_view_module": "@jupyter-widgets/base",
            "_view_module_version": "1.2.0",
            "_view_name": "StyleView",
            "bar_color": null,
            "description_width": ""
          }
        },
        "7761b7b623534c68ad586300b07985ca": {
          "model_module": "@jupyter-widgets/controls",
          "model_module_version": "1.5.0",
          "model_name": "HTMLModel",
          "state": {
            "_dom_classes": [],
            "_model_module": "@jupyter-widgets/controls",
            "_model_module_version": "1.5.0",
            "_model_name": "HTMLModel",
            "_view_count": null,
            "_view_module": "@jupyter-widgets/controls",
            "_view_module_version": "1.5.0",
            "_view_name": "HTMLView",
            "description": "",
            "description_tooltip": null,
            "layout": "IPY_MODEL_ace127325d7c4e3fbeb89b429cec3818",
            "placeholder": "​",
            "style": "IPY_MODEL_d898284a332942ba9718dd12a49f66bd",
            "value": " 28881/28881 [00:00&lt;00:00, 406871.09it/s]"
          }
        },
        "7ff709746d134538b309c9877ae45339": {
          "model_module": "@jupyter-widgets/controls",
          "model_module_version": "1.5.0",
          "model_name": "HTMLModel",
          "state": {
            "_dom_classes": [],
            "_model_module": "@jupyter-widgets/controls",
            "_model_module_version": "1.5.0",
            "_model_name": "HTMLModel",
            "_view_count": null,
            "_view_module": "@jupyter-widgets/controls",
            "_view_module_version": "1.5.0",
            "_view_name": "HTMLView",
            "description": "",
            "description_tooltip": null,
            "layout": "IPY_MODEL_d790b4f130934dafbaed282ceb150822",
            "placeholder": "​",
            "style": "IPY_MODEL_d3ff766e996e461d86a81dc72128d1c0",
            "value": " 9912422/9912422 [00:00&lt;00:00, 24207884.11it/s]"
          }
        },
        "8f80c9abc57a479ea71e0a509dd67a71": {
          "model_module": "@jupyter-widgets/controls",
          "model_module_version": "1.5.0",
          "model_name": "DescriptionStyleModel",
          "state": {
            "_model_module": "@jupyter-widgets/controls",
            "_model_module_version": "1.5.0",
            "_model_name": "DescriptionStyleModel",
            "_view_count": null,
            "_view_module": "@jupyter-widgets/base",
            "_view_module_version": "1.2.0",
            "_view_name": "StyleView",
            "description_width": ""
          }
        },
        "945ed435dc644b169f737a8374943116": {
          "model_module": "@jupyter-widgets/controls",
          "model_module_version": "1.5.0",
          "model_name": "HTMLModel",
          "state": {
            "_dom_classes": [],
            "_model_module": "@jupyter-widgets/controls",
            "_model_module_version": "1.5.0",
            "_model_name": "HTMLModel",
            "_view_count": null,
            "_view_module": "@jupyter-widgets/controls",
            "_view_module_version": "1.5.0",
            "_view_name": "HTMLView",
            "description": "",
            "description_tooltip": null,
            "layout": "IPY_MODEL_1c3ab3e28072481ba4d01b4a5c02d454",
            "placeholder": "​",
            "style": "IPY_MODEL_2738c9db54b241fd8e9bb9a0fcd1d537",
            "value": "100%"
          }
        },
        "9bb8d3815b564268b2e50eefb323b1d4": {
          "model_module": "@jupyter-widgets/base",
          "model_module_version": "1.2.0",
          "model_name": "LayoutModel",
          "state": {
            "_model_module": "@jupyter-widgets/base",
            "_model_module_version": "1.2.0",
            "_model_name": "LayoutModel",
            "_view_count": null,
            "_view_module": "@jupyter-widgets/base",
            "_view_module_version": "1.2.0",
            "_view_name": "LayoutView",
            "align_content": null,
            "align_items": null,
            "align_self": null,
            "border": null,
            "bottom": null,
            "display": null,
            "flex": null,
            "flex_flow": null,
            "grid_area": null,
            "grid_auto_columns": null,
            "grid_auto_flow": null,
            "grid_auto_rows": null,
            "grid_column": null,
            "grid_gap": null,
            "grid_row": null,
            "grid_template_areas": null,
            "grid_template_columns": null,
            "grid_template_rows": null,
            "height": null,
            "justify_content": null,
            "justify_items": null,
            "left": null,
            "margin": null,
            "max_height": null,
            "max_width": null,
            "min_height": null,
            "min_width": null,
            "object_fit": null,
            "object_position": null,
            "order": null,
            "overflow": null,
            "overflow_x": null,
            "overflow_y": null,
            "padding": null,
            "right": null,
            "top": null,
            "visibility": null,
            "width": null
          }
        },
        "9be52d66df88408391ed78290b2f3234": {
          "model_module": "@jupyter-widgets/base",
          "model_module_version": "1.2.0",
          "model_name": "LayoutModel",
          "state": {
            "_model_module": "@jupyter-widgets/base",
            "_model_module_version": "1.2.0",
            "_model_name": "LayoutModel",
            "_view_count": null,
            "_view_module": "@jupyter-widgets/base",
            "_view_module_version": "1.2.0",
            "_view_name": "LayoutView",
            "align_content": null,
            "align_items": null,
            "align_self": null,
            "border": null,
            "bottom": null,
            "display": null,
            "flex": null,
            "flex_flow": null,
            "grid_area": null,
            "grid_auto_columns": null,
            "grid_auto_flow": null,
            "grid_auto_rows": null,
            "grid_column": null,
            "grid_gap": null,
            "grid_row": null,
            "grid_template_areas": null,
            "grid_template_columns": null,
            "grid_template_rows": null,
            "height": null,
            "justify_content": null,
            "justify_items": null,
            "left": null,
            "margin": null,
            "max_height": null,
            "max_width": null,
            "min_height": null,
            "min_width": null,
            "object_fit": null,
            "object_position": null,
            "order": null,
            "overflow": null,
            "overflow_x": null,
            "overflow_y": null,
            "padding": null,
            "right": null,
            "top": null,
            "visibility": null,
            "width": null
          }
        },
        "9d54b1af37a146f69919aa4c0da506a3": {
          "model_module": "@jupyter-widgets/base",
          "model_module_version": "1.2.0",
          "model_name": "LayoutModel",
          "state": {
            "_model_module": "@jupyter-widgets/base",
            "_model_module_version": "1.2.0",
            "_model_name": "LayoutModel",
            "_view_count": null,
            "_view_module": "@jupyter-widgets/base",
            "_view_module_version": "1.2.0",
            "_view_name": "LayoutView",
            "align_content": null,
            "align_items": null,
            "align_self": null,
            "border": null,
            "bottom": null,
            "display": null,
            "flex": null,
            "flex_flow": null,
            "grid_area": null,
            "grid_auto_columns": null,
            "grid_auto_flow": null,
            "grid_auto_rows": null,
            "grid_column": null,
            "grid_gap": null,
            "grid_row": null,
            "grid_template_areas": null,
            "grid_template_columns": null,
            "grid_template_rows": null,
            "height": null,
            "justify_content": null,
            "justify_items": null,
            "left": null,
            "margin": null,
            "max_height": null,
            "max_width": null,
            "min_height": null,
            "min_width": null,
            "object_fit": null,
            "object_position": null,
            "order": null,
            "overflow": null,
            "overflow_x": null,
            "overflow_y": null,
            "padding": null,
            "right": null,
            "top": null,
            "visibility": null,
            "width": null
          }
        },
        "a8e0939a89ea475f81f40e65c431f9e6": {
          "model_module": "@jupyter-widgets/controls",
          "model_module_version": "1.5.0",
          "model_name": "FloatProgressModel",
          "state": {
            "_dom_classes": [],
            "_model_module": "@jupyter-widgets/controls",
            "_model_module_version": "1.5.0",
            "_model_name": "FloatProgressModel",
            "_view_count": null,
            "_view_module": "@jupyter-widgets/controls",
            "_view_module_version": "1.5.0",
            "_view_name": "ProgressView",
            "bar_style": "success",
            "description": "",
            "description_tooltip": null,
            "layout": "IPY_MODEL_9bb8d3815b564268b2e50eefb323b1d4",
            "max": 4542,
            "min": 0,
            "orientation": "horizontal",
            "style": "IPY_MODEL_7692a97c226f4f9399d962622c4d5c31",
            "value": 4542
          }
        },
        "ace127325d7c4e3fbeb89b429cec3818": {
          "model_module": "@jupyter-widgets/base",
          "model_module_version": "1.2.0",
          "model_name": "LayoutModel",
          "state": {
            "_model_module": "@jupyter-widgets/base",
            "_model_module_version": "1.2.0",
            "_model_name": "LayoutModel",
            "_view_count": null,
            "_view_module": "@jupyter-widgets/base",
            "_view_module_version": "1.2.0",
            "_view_name": "LayoutView",
            "align_content": null,
            "align_items": null,
            "align_self": null,
            "border": null,
            "bottom": null,
            "display": null,
            "flex": null,
            "flex_flow": null,
            "grid_area": null,
            "grid_auto_columns": null,
            "grid_auto_flow": null,
            "grid_auto_rows": null,
            "grid_column": null,
            "grid_gap": null,
            "grid_row": null,
            "grid_template_areas": null,
            "grid_template_columns": null,
            "grid_template_rows": null,
            "height": null,
            "justify_content": null,
            "justify_items": null,
            "left": null,
            "margin": null,
            "max_height": null,
            "max_width": null,
            "min_height": null,
            "min_width": null,
            "object_fit": null,
            "object_position": null,
            "order": null,
            "overflow": null,
            "overflow_x": null,
            "overflow_y": null,
            "padding": null,
            "right": null,
            "top": null,
            "visibility": null,
            "width": null
          }
        },
        "b31d84ffdbd64d33ab196e2c8eb3cd2f": {
          "model_module": "@jupyter-widgets/controls",
          "model_module_version": "1.5.0",
          "model_name": "ProgressStyleModel",
          "state": {
            "_model_module": "@jupyter-widgets/controls",
            "_model_module_version": "1.5.0",
            "_model_name": "ProgressStyleModel",
            "_view_count": null,
            "_view_module": "@jupyter-widgets/base",
            "_view_module_version": "1.2.0",
            "_view_name": "StyleView",
            "bar_color": null,
            "description_width": ""
          }
        },
        "bf7158bbd15e484fa03fefaab085a783": {
          "model_module": "@jupyter-widgets/controls",
          "model_module_version": "1.5.0",
          "model_name": "HTMLModel",
          "state": {
            "_dom_classes": [],
            "_model_module": "@jupyter-widgets/controls",
            "_model_module_version": "1.5.0",
            "_model_name": "HTMLModel",
            "_view_count": null,
            "_view_module": "@jupyter-widgets/controls",
            "_view_module_version": "1.5.0",
            "_view_name": "HTMLView",
            "description": "",
            "description_tooltip": null,
            "layout": "IPY_MODEL_f4acc96397b04e18a54615f4bd1c01f2",
            "placeholder": "​",
            "style": "IPY_MODEL_2d9eecdced72480ea57ac8b592d6a102",
            "value": "100%"
          }
        },
        "c2399686d62e4e88bdd21a84b9fb686e": {
          "model_module": "@jupyter-widgets/controls",
          "model_module_version": "1.5.0",
          "model_name": "HTMLModel",
          "state": {
            "_dom_classes": [],
            "_model_module": "@jupyter-widgets/controls",
            "_model_module_version": "1.5.0",
            "_model_name": "HTMLModel",
            "_view_count": null,
            "_view_module": "@jupyter-widgets/controls",
            "_view_module_version": "1.5.0",
            "_view_name": "HTMLView",
            "description": "",
            "description_tooltip": null,
            "layout": "IPY_MODEL_e3954377ee7c46d88fef07ac62662427",
            "placeholder": "​",
            "style": "IPY_MODEL_d3c60af8a70741e78831e440959f0dc9",
            "value": " 4542/4542 [00:00&lt;00:00, 169549.03it/s]"
          }
        },
        "c302c33994ed4d07bb743eecd214900a": {
          "model_module": "@jupyter-widgets/controls",
          "model_module_version": "1.5.0",
          "model_name": "HTMLModel",
          "state": {
            "_dom_classes": [],
            "_model_module": "@jupyter-widgets/controls",
            "_model_module_version": "1.5.0",
            "_model_name": "HTMLModel",
            "_view_count": null,
            "_view_module": "@jupyter-widgets/controls",
            "_view_module_version": "1.5.0",
            "_view_name": "HTMLView",
            "description": "",
            "description_tooltip": null,
            "layout": "IPY_MODEL_40bbe39eff5449c3944ec8113ec0dab4",
            "placeholder": "​",
            "style": "IPY_MODEL_8f80c9abc57a479ea71e0a509dd67a71",
            "value": "100%"
          }
        },
        "c866bb02674045a8996d61ff8c3881f1": {
          "model_module": "@jupyter-widgets/controls",
          "model_module_version": "1.5.0",
          "model_name": "FloatProgressModel",
          "state": {
            "_dom_classes": [],
            "_model_module": "@jupyter-widgets/controls",
            "_model_module_version": "1.5.0",
            "_model_name": "FloatProgressModel",
            "_view_count": null,
            "_view_module": "@jupyter-widgets/controls",
            "_view_module_version": "1.5.0",
            "_view_name": "ProgressView",
            "bar_style": "success",
            "description": "",
            "description_tooltip": null,
            "layout": "IPY_MODEL_213de87252ed472ea31ccec2296cc73d",
            "max": 28881,
            "min": 0,
            "orientation": "horizontal",
            "style": "IPY_MODEL_531982f78ae6481a8e39a860fc799c89",
            "value": 28881
          }
        },
        "c95e1aab65c64fdd9327b969cb2cdbaf": {
          "model_module": "@jupyter-widgets/controls",
          "model_module_version": "1.5.0",
          "model_name": "HBoxModel",
          "state": {
            "_dom_classes": [],
            "_model_module": "@jupyter-widgets/controls",
            "_model_module_version": "1.5.0",
            "_model_name": "HBoxModel",
            "_view_count": null,
            "_view_module": "@jupyter-widgets/controls",
            "_view_module_version": "1.5.0",
            "_view_name": "HBoxView",
            "box_style": "",
            "children": [
              "IPY_MODEL_945ed435dc644b169f737a8374943116",
              "IPY_MODEL_c866bb02674045a8996d61ff8c3881f1",
              "IPY_MODEL_7761b7b623534c68ad586300b07985ca"
            ],
            "layout": "IPY_MODEL_9be52d66df88408391ed78290b2f3234"
          }
        },
        "cd5320004d6d4bebbb08f7980b337a40": {
          "model_module": "@jupyter-widgets/base",
          "model_module_version": "1.2.0",
          "model_name": "LayoutModel",
          "state": {
            "_model_module": "@jupyter-widgets/base",
            "_model_module_version": "1.2.0",
            "_model_name": "LayoutModel",
            "_view_count": null,
            "_view_module": "@jupyter-widgets/base",
            "_view_module_version": "1.2.0",
            "_view_name": "LayoutView",
            "align_content": null,
            "align_items": null,
            "align_self": null,
            "border": null,
            "bottom": null,
            "display": null,
            "flex": null,
            "flex_flow": null,
            "grid_area": null,
            "grid_auto_columns": null,
            "grid_auto_flow": null,
            "grid_auto_rows": null,
            "grid_column": null,
            "grid_gap": null,
            "grid_row": null,
            "grid_template_areas": null,
            "grid_template_columns": null,
            "grid_template_rows": null,
            "height": null,
            "justify_content": null,
            "justify_items": null,
            "left": null,
            "margin": null,
            "max_height": null,
            "max_width": null,
            "min_height": null,
            "min_width": null,
            "object_fit": null,
            "object_position": null,
            "order": null,
            "overflow": null,
            "overflow_x": null,
            "overflow_y": null,
            "padding": null,
            "right": null,
            "top": null,
            "visibility": null,
            "width": null
          }
        },
        "d3c60af8a70741e78831e440959f0dc9": {
          "model_module": "@jupyter-widgets/controls",
          "model_module_version": "1.5.0",
          "model_name": "DescriptionStyleModel",
          "state": {
            "_model_module": "@jupyter-widgets/controls",
            "_model_module_version": "1.5.0",
            "_model_name": "DescriptionStyleModel",
            "_view_count": null,
            "_view_module": "@jupyter-widgets/base",
            "_view_module_version": "1.2.0",
            "_view_name": "StyleView",
            "description_width": ""
          }
        },
        "d3ff766e996e461d86a81dc72128d1c0": {
          "model_module": "@jupyter-widgets/controls",
          "model_module_version": "1.5.0",
          "model_name": "DescriptionStyleModel",
          "state": {
            "_model_module": "@jupyter-widgets/controls",
            "_model_module_version": "1.5.0",
            "_model_name": "DescriptionStyleModel",
            "_view_count": null,
            "_view_module": "@jupyter-widgets/base",
            "_view_module_version": "1.2.0",
            "_view_name": "StyleView",
            "description_width": ""
          }
        },
        "d569aef86071423da6ea347477fd46df": {
          "model_module": "@jupyter-widgets/controls",
          "model_module_version": "1.5.0",
          "model_name": "HBoxModel",
          "state": {
            "_dom_classes": [],
            "_model_module": "@jupyter-widgets/controls",
            "_model_module_version": "1.5.0",
            "_model_name": "HBoxModel",
            "_view_count": null,
            "_view_module": "@jupyter-widgets/controls",
            "_view_module_version": "1.5.0",
            "_view_name": "HBoxView",
            "box_style": "",
            "children": [
              "IPY_MODEL_c302c33994ed4d07bb743eecd214900a",
              "IPY_MODEL_a8e0939a89ea475f81f40e65c431f9e6",
              "IPY_MODEL_c2399686d62e4e88bdd21a84b9fb686e"
            ],
            "layout": "IPY_MODEL_cd5320004d6d4bebbb08f7980b337a40"
          }
        },
        "d790b4f130934dafbaed282ceb150822": {
          "model_module": "@jupyter-widgets/base",
          "model_module_version": "1.2.0",
          "model_name": "LayoutModel",
          "state": {
            "_model_module": "@jupyter-widgets/base",
            "_model_module_version": "1.2.0",
            "_model_name": "LayoutModel",
            "_view_count": null,
            "_view_module": "@jupyter-widgets/base",
            "_view_module_version": "1.2.0",
            "_view_name": "LayoutView",
            "align_content": null,
            "align_items": null,
            "align_self": null,
            "border": null,
            "bottom": null,
            "display": null,
            "flex": null,
            "flex_flow": null,
            "grid_area": null,
            "grid_auto_columns": null,
            "grid_auto_flow": null,
            "grid_auto_rows": null,
            "grid_column": null,
            "grid_gap": null,
            "grid_row": null,
            "grid_template_areas": null,
            "grid_template_columns": null,
            "grid_template_rows": null,
            "height": null,
            "justify_content": null,
            "justify_items": null,
            "left": null,
            "margin": null,
            "max_height": null,
            "max_width": null,
            "min_height": null,
            "min_width": null,
            "object_fit": null,
            "object_position": null,
            "order": null,
            "overflow": null,
            "overflow_x": null,
            "overflow_y": null,
            "padding": null,
            "right": null,
            "top": null,
            "visibility": null,
            "width": null
          }
        },
        "d898284a332942ba9718dd12a49f66bd": {
          "model_module": "@jupyter-widgets/controls",
          "model_module_version": "1.5.0",
          "model_name": "DescriptionStyleModel",
          "state": {
            "_model_module": "@jupyter-widgets/controls",
            "_model_module_version": "1.5.0",
            "_model_name": "DescriptionStyleModel",
            "_view_count": null,
            "_view_module": "@jupyter-widgets/base",
            "_view_module_version": "1.2.0",
            "_view_name": "StyleView",
            "description_width": ""
          }
        },
        "d8f972c179de4da58a8347d6c8051d35": {
          "model_module": "@jupyter-widgets/controls",
          "model_module_version": "1.5.0",
          "model_name": "ProgressStyleModel",
          "state": {
            "_model_module": "@jupyter-widgets/controls",
            "_model_module_version": "1.5.0",
            "_model_name": "ProgressStyleModel",
            "_view_count": null,
            "_view_module": "@jupyter-widgets/base",
            "_view_module_version": "1.2.0",
            "_view_name": "StyleView",
            "bar_color": null,
            "description_width": ""
          }
        },
        "df32df52cb8d4481b56ba6e1f0d63442": {
          "model_module": "@jupyter-widgets/base",
          "model_module_version": "1.2.0",
          "model_name": "LayoutModel",
          "state": {
            "_model_module": "@jupyter-widgets/base",
            "_model_module_version": "1.2.0",
            "_model_name": "LayoutModel",
            "_view_count": null,
            "_view_module": "@jupyter-widgets/base",
            "_view_module_version": "1.2.0",
            "_view_name": "LayoutView",
            "align_content": null,
            "align_items": null,
            "align_self": null,
            "border": null,
            "bottom": null,
            "display": null,
            "flex": null,
            "flex_flow": null,
            "grid_area": null,
            "grid_auto_columns": null,
            "grid_auto_flow": null,
            "grid_auto_rows": null,
            "grid_column": null,
            "grid_gap": null,
            "grid_row": null,
            "grid_template_areas": null,
            "grid_template_columns": null,
            "grid_template_rows": null,
            "height": null,
            "justify_content": null,
            "justify_items": null,
            "left": null,
            "margin": null,
            "max_height": null,
            "max_width": null,
            "min_height": null,
            "min_width": null,
            "object_fit": null,
            "object_position": null,
            "order": null,
            "overflow": null,
            "overflow_x": null,
            "overflow_y": null,
            "padding": null,
            "right": null,
            "top": null,
            "visibility": null,
            "width": null
          }
        },
        "e3954377ee7c46d88fef07ac62662427": {
          "model_module": "@jupyter-widgets/base",
          "model_module_version": "1.2.0",
          "model_name": "LayoutModel",
          "state": {
            "_model_module": "@jupyter-widgets/base",
            "_model_module_version": "1.2.0",
            "_model_name": "LayoutModel",
            "_view_count": null,
            "_view_module": "@jupyter-widgets/base",
            "_view_module_version": "1.2.0",
            "_view_name": "LayoutView",
            "align_content": null,
            "align_items": null,
            "align_self": null,
            "border": null,
            "bottom": null,
            "display": null,
            "flex": null,
            "flex_flow": null,
            "grid_area": null,
            "grid_auto_columns": null,
            "grid_auto_flow": null,
            "grid_auto_rows": null,
            "grid_column": null,
            "grid_gap": null,
            "grid_row": null,
            "grid_template_areas": null,
            "grid_template_columns": null,
            "grid_template_rows": null,
            "height": null,
            "justify_content": null,
            "justify_items": null,
            "left": null,
            "margin": null,
            "max_height": null,
            "max_width": null,
            "min_height": null,
            "min_width": null,
            "object_fit": null,
            "object_position": null,
            "order": null,
            "overflow": null,
            "overflow_x": null,
            "overflow_y": null,
            "padding": null,
            "right": null,
            "top": null,
            "visibility": null,
            "width": null
          }
        },
        "eb80800edf1a4c06b86ec3c328390a99": {
          "model_module": "@jupyter-widgets/controls",
          "model_module_version": "1.5.0",
          "model_name": "DescriptionStyleModel",
          "state": {
            "_model_module": "@jupyter-widgets/controls",
            "_model_module_version": "1.5.0",
            "_model_name": "DescriptionStyleModel",
            "_view_count": null,
            "_view_module": "@jupyter-widgets/base",
            "_view_module_version": "1.2.0",
            "_view_name": "StyleView",
            "description_width": ""
          }
        },
        "f4acc96397b04e18a54615f4bd1c01f2": {
          "model_module": "@jupyter-widgets/base",
          "model_module_version": "1.2.0",
          "model_name": "LayoutModel",
          "state": {
            "_model_module": "@jupyter-widgets/base",
            "_model_module_version": "1.2.0",
            "_model_name": "LayoutModel",
            "_view_count": null,
            "_view_module": "@jupyter-widgets/base",
            "_view_module_version": "1.2.0",
            "_view_name": "LayoutView",
            "align_content": null,
            "align_items": null,
            "align_self": null,
            "border": null,
            "bottom": null,
            "display": null,
            "flex": null,
            "flex_flow": null,
            "grid_area": null,
            "grid_auto_columns": null,
            "grid_auto_flow": null,
            "grid_auto_rows": null,
            "grid_column": null,
            "grid_gap": null,
            "grid_row": null,
            "grid_template_areas": null,
            "grid_template_columns": null,
            "grid_template_rows": null,
            "height": null,
            "justify_content": null,
            "justify_items": null,
            "left": null,
            "margin": null,
            "max_height": null,
            "max_width": null,
            "min_height": null,
            "min_width": null,
            "object_fit": null,
            "object_position": null,
            "order": null,
            "overflow": null,
            "overflow_x": null,
            "overflow_y": null,
            "padding": null,
            "right": null,
            "top": null,
            "visibility": null,
            "width": null
          }
        }
      }
    }
  },
  "nbformat": 4,
  "nbformat_minor": 0
}